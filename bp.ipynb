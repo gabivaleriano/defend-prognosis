{
 "cells": [
  {
   "cell_type": "markdown",
   "metadata": {},
   "source": [
    "Integração e processamento de dados para estudo de gravidade. \n",
    "\n",
    "Autoras: Maria Gabriela Valeriano e Ana Carolina Lorena\n",
    "\n",
    "Dados disponíveis em: https://repositoriodatasharingfapesp.uspdigital.usp.br/\n",
    "\n",
    "Os arquivo contendo os exames passou por um processamento anterior (notebook: bp_nomesexames)"
   ]
  },
  {
   "cell_type": "code",
   "execution_count": 1,
   "metadata": {
    "colab": {
     "base_uri": "https://localhost:8080/"
    },
    "id": "ypI1tuaA9tp2",
    "outputId": "d79dc50a-6a42-4654-c97c-50a2f9cac4ee"
   },
   "outputs": [
    {
     "name": "stderr",
     "output_type": "stream",
     "text": [
      "Registered S3 methods overwritten by 'tibble':\n",
      "  method     from  \n",
      "  format.tbl pillar\n",
      "  print.tbl  pillar\n",
      "\n",
      "Registered S3 methods overwritten by 'ggplot2':\n",
      "  method         from \n",
      "  [.quosures     rlang\n",
      "  c.quosures     rlang\n",
      "  print.quosures rlang\n",
      "\n",
      "Registered S3 method overwritten by 'rvest':\n",
      "  method            from\n",
      "  read_xml.response xml2\n",
      "\n",
      "── \u001b[1mAttaching packages\u001b[22m ─────────────────────────────────────── tidyverse 1.2.1 ──\n",
      "\n",
      "\u001b[32m✔\u001b[39m \u001b[34mggplot2\u001b[39m 3.1.1       \u001b[32m✔\u001b[39m \u001b[34mpurrr  \u001b[39m 0.3.2  \n",
      "\u001b[32m✔\u001b[39m \u001b[34mtibble \u001b[39m 2.1.1       \u001b[32m✔\u001b[39m \u001b[34mdplyr  \u001b[39m 0.8.0.\u001b[31m1\u001b[39m\n",
      "\u001b[32m✔\u001b[39m \u001b[34mtidyr  \u001b[39m 0.8.3       \u001b[32m✔\u001b[39m \u001b[34mstringr\u001b[39m 1.4.0  \n",
      "\u001b[32m✔\u001b[39m \u001b[34mreadr  \u001b[39m 1.3.1       \u001b[32m✔\u001b[39m \u001b[34mforcats\u001b[39m 0.4.0  \n",
      "\n",
      "── \u001b[1mConflicts\u001b[22m ────────────────────────────────────────── tidyverse_conflicts() ──\n",
      "\u001b[31m✖\u001b[39m \u001b[34mdplyr\u001b[39m::\u001b[32mfilter()\u001b[39m masks \u001b[34mstats\u001b[39m::filter()\n",
      "\u001b[31m✖\u001b[39m \u001b[34mdplyr\u001b[39m::\u001b[32mlag()\u001b[39m    masks \u001b[34mstats\u001b[39m::lag()\n",
      "\n"
     ]
    }
   ],
   "source": [
    "#carrega o pacote tidyverse\n",
    "library(tidyverse)"
   ]
  },
  {
   "cell_type": "code",
   "execution_count": 2,
   "metadata": {
    "colab": {
     "base_uri": "https://localhost:8080/",
     "height": 52
    },
    "id": "C09MKIfIGo5z",
    "outputId": "6d7f475e-1f3a-49df-b61b-e254bf725fb8"
   },
   "outputs": [
    {
     "data": {
      "text/html": [
       "<style>\n",
       ".list-inline {list-style: none; margin:0; padding: 0}\n",
       ".list-inline>li {display: inline-block}\n",
       ".list-inline>li:not(:last-child)::after {content: \"\\00b7\"; padding: 0 .5ex}\n",
       "</style>\n",
       "<ol class=list-inline><li>39000</li><li>7</li></ol>\n"
      ],
      "text/latex": [
       "\\begin{enumerate*}\n",
       "\\item 39000\n",
       "\\item 7\n",
       "\\end{enumerate*}\n"
      ],
      "text/markdown": [
       "1. 39000\n",
       "2. 7\n",
       "\n",
       "\n"
      ],
      "text/plain": [
       "[1] 39000     7"
      ]
     },
     "metadata": {},
     "output_type": "display_data"
    },
    {
     "data": {
      "text/html": [
       "<style>\n",
       ".list-inline {list-style: none; margin:0; padding: 0}\n",
       ".list-inline>li {display: inline-block}\n",
       ".list-inline>li:not(:last-child)::after {content: \"\\00b7\"; padding: 0 .5ex}\n",
       "</style>\n",
       "<ol class=list-inline><li>39000</li><li>7</li></ol>\n"
      ],
      "text/latex": [
       "\\begin{enumerate*}\n",
       "\\item 39000\n",
       "\\item 7\n",
       "\\end{enumerate*}\n"
      ],
      "text/markdown": [
       "1. 39000\n",
       "2. 7\n",
       "\n",
       "\n"
      ],
      "text/plain": [
       "[1] 39000     7"
      ]
     },
     "metadata": {},
     "output_type": "display_data"
    }
   ],
   "source": [
    "#lê o arquivo pacientes do bp\n",
    "pacientes <- read.csv(\"bpsp_pacientes_01.csv\", sep = \"|\", stringsAsFactors = FALSE)\n",
    "\n",
    "#dimensões\n",
    "pacientes %>% dim\n",
    "\n",
    "#verifica se tem linhas repetidas\n",
    "pacientes %>% unique %>% dim\n"
   ]
  },
  {
   "cell_type": "code",
   "execution_count": 3,
   "metadata": {
    "id": "A55_CAQyIj20"
   },
   "outputs": [
    {
     "data": {
      "text/html": [
       "39000"
      ],
      "text/latex": [
       "39000"
      ],
      "text/markdown": [
       "39000"
      ],
      "text/plain": [
       "[1] 39000"
      ]
     },
     "metadata": {},
     "output_type": "display_data"
    }
   ],
   "source": [
    "#renomeia as colunas\n",
    "names(pacientes) <- c('id', 'sexo', 'nascimento.ano', 'país', 'estado', 'cidade', 'CEP')\n",
    "\n",
    "#número de pacientes\n",
    "pacientes %>% select(id) %>% unique %>% nrow"
   ]
  },
  {
   "cell_type": "code",
   "execution_count": 4,
   "metadata": {
    "colab": {
     "base_uri": "https://localhost:8080/",
     "height": 52
    },
    "id": "8Y5QaiHn919p",
    "outputId": "7cf910df-a075-4f20-9ef6-8b4a187c6bd4"
   },
   "outputs": [
    {
     "data": {
      "text/html": [
       "<style>\n",
       ".list-inline {list-style: none; margin:0; padding: 0}\n",
       ".list-inline>li {display: inline-block}\n",
       ".list-inline>li:not(:last-child)::after {content: \"\\00b7\"; padding: 0 .5ex}\n",
       "</style>\n",
       "<ol class=list-inline><li>5339293</li><li>10</li></ol>\n"
      ],
      "text/latex": [
       "\\begin{enumerate*}\n",
       "\\item 5339293\n",
       "\\item 10\n",
       "\\end{enumerate*}\n"
      ],
      "text/markdown": [
       "1. 5339293\n",
       "2. 10\n",
       "\n",
       "\n"
      ],
      "text/plain": [
       "[1] 5339293      10"
      ]
     },
     "metadata": {},
     "output_type": "display_data"
    },
    {
     "data": {
      "text/html": [
       "<style>\n",
       ".list-inline {list-style: none; margin:0; padding: 0}\n",
       ".list-inline>li {display: inline-block}\n",
       ".list-inline>li:not(:last-child)::after {content: \"\\00b7\"; padding: 0 .5ex}\n",
       "</style>\n",
       "<ol class=list-inline><li>5229119</li><li>10</li></ol>\n"
      ],
      "text/latex": [
       "\\begin{enumerate*}\n",
       "\\item 5229119\n",
       "\\item 10\n",
       "\\end{enumerate*}\n"
      ],
      "text/markdown": [
       "1. 5229119\n",
       "2. 10\n",
       "\n",
       "\n"
      ],
      "text/plain": [
       "[1] 5229119      10"
      ]
     },
     "metadata": {},
     "output_type": "display_data"
    },
    {
     "data": {
      "text/html": [
       "<style>\n",
       ".list-inline {list-style: none; margin:0; padding: 0}\n",
       ".list-inline>li {display: inline-block}\n",
       ".list-inline>li:not(:last-child)::after {content: \"\\00b7\"; padding: 0 .5ex}\n",
       "</style>\n",
       "<ol class=list-inline><li>33800</li><li>1</li></ol>\n"
      ],
      "text/latex": [
       "\\begin{enumerate*}\n",
       "\\item 33800\n",
       "\\item 1\n",
       "\\end{enumerate*}\n"
      ],
      "text/markdown": [
       "1. 33800\n",
       "2. 1\n",
       "\n",
       "\n"
      ],
      "text/plain": [
       "[1] 33800     1"
      ]
     },
     "metadata": {},
     "output_type": "display_data"
    }
   ],
   "source": [
    "#le o arquivo bp exames - com nomes processados\n",
    "exames <- read.csv(\"bpsp_exames_01_nomesproc.csv\", stringsAsFactors = FALSE)\n",
    "\n",
    "#dimensões\n",
    "exames %>% dim\n",
    "\n",
    "#verifica se tem linhas repetidas\n",
    "exames %>% unique %>% dim\n",
    "\n",
    "#remove as linhas repetidas\n",
    "exames %>% unique -> exames\n",
    "\n",
    "#numero de ids no arquivo\n",
    "exames %>% select(id) %>% unique %>% dim\n"
   ]
  },
  {
   "cell_type": "code",
   "execution_count": 5,
   "metadata": {
    "id": "GmwyC__BANLs"
   },
   "outputs": [],
   "source": [
    "#transforma as vírgulas em pontos em todo o arquivo\n",
    "exames <- data.frame(lapply(exames, function(x) {gsub(\",\", \".\", x)}))\n"
   ]
  },
  {
   "cell_type": "code",
   "execution_count": 6,
   "metadata": {
    "colab": {
     "base_uri": "https://localhost:8080/",
     "height": 52
    },
    "id": "IM4SIgUVCiQj",
    "outputId": "48d975f9-1de0-4849-a1a6-f556c566a7ca"
   },
   "outputs": [
    {
     "data": {
      "text/html": [
       "<style>\n",
       ".list-inline {list-style: none; margin:0; padding: 0}\n",
       ".list-inline>li {display: inline-block}\n",
       ".list-inline>li:not(:last-child)::after {content: \"\\00b7\"; padding: 0 .5ex}\n",
       "</style>\n",
       "<ol class=list-inline><li>217991</li><li>8</li></ol>\n"
      ],
      "text/latex": [
       "\\begin{enumerate*}\n",
       "\\item 217991\n",
       "\\item 8\n",
       "\\end{enumerate*}\n"
      ],
      "text/markdown": [
       "1. 217991\n",
       "2. 8\n",
       "\n",
       "\n"
      ],
      "text/plain": [
       "[1] 217991      8"
      ]
     },
     "metadata": {},
     "output_type": "display_data"
    },
    {
     "data": {
      "text/html": [
       "<style>\n",
       ".list-inline {list-style: none; margin:0; padding: 0}\n",
       ".list-inline>li {display: inline-block}\n",
       ".list-inline>li:not(:last-child)::after {content: \"\\00b7\"; padding: 0 .5ex}\n",
       "</style>\n",
       "<ol class=list-inline><li>217991</li><li>8</li></ol>\n"
      ],
      "text/latex": [
       "\\begin{enumerate*}\n",
       "\\item 217991\n",
       "\\item 8\n",
       "\\end{enumerate*}\n"
      ],
      "text/markdown": [
       "1. 217991\n",
       "2. 8\n",
       "\n",
       "\n"
      ],
      "text/plain": [
       "[1] 217991      8"
      ]
     },
     "metadata": {},
     "output_type": "display_data"
    }
   ],
   "source": [
    "#lê o arquivo desfecho do bp\n",
    "desfecho <- read.csv(\"bpsp_desfecho_01.csv\", sep = \"|\", stringsAsFactors = FALSE) \n",
    "\n",
    "#dimensões\n",
    "desfecho %>% dim\n",
    "\n",
    "#verifica se tem linhas repetidas\n",
    "desfecho %>% unique %>% dim"
   ]
  },
  {
   "cell_type": "code",
   "execution_count": 7,
   "metadata": {
    "id": "BqtkasuNJJGm"
   },
   "outputs": [
    {
     "data": {
      "text/html": [
       "<style>\n",
       ".list-inline {list-style: none; margin:0; padding: 0}\n",
       ".list-inline>li {display: inline-block}\n",
       ".list-inline>li:not(:last-child)::after {content: \"\\00b7\"; padding: 0 .5ex}\n",
       "</style>\n",
       "<ol class=list-inline><li>39001</li><li>1</li></ol>\n"
      ],
      "text/latex": [
       "\\begin{enumerate*}\n",
       "\\item 39001\n",
       "\\item 1\n",
       "\\end{enumerate*}\n"
      ],
      "text/markdown": [
       "1. 39001\n",
       "2. 1\n",
       "\n",
       "\n"
      ],
      "text/plain": [
       "[1] 39001     1"
      ]
     },
     "metadata": {},
     "output_type": "display_data"
    }
   ],
   "source": [
    "#renomeia as colunas\n",
    "names(desfecho) <- c('id', 'id.atendimento', 'data.atendimento', 'tipo.atendimento', 'id.clinica', 'descrição', 'data.desfecho','desfecho.paciente')\n",
    "\n",
    "#número de dis no arquivo\n",
    "desfecho %>% select(id) %>% unique %>% dim"
   ]
  },
  {
   "cell_type": "code",
   "execution_count": 8,
   "metadata": {
    "id": "b-cQF623HQh-"
   },
   "outputs": [],
   "source": [
    "#passa as coluna data.desfecho e data.atendimento para o formato data\n",
    "desfecho$data.desfecho <- as.Date(desfecho$data.desfecho, format=\"%d/%m/%Y\")\n",
    "desfecho$data.atendimento<- as.Date(desfecho$data.atendimento, format=\"%d/%m/%Y\")\n",
    "\n",
    "#adiciona uma coluna com o número de dias entre entrada e a data do desfecho\n",
    "desfecho %>% mutate(dias.desfecho = (difftime(desfecho$data.desfecho, desfecho$data.atendimento, unit = \"days\"))) -> desfecho\n",
    "desfecho$dias.desfecho <- as.integer(desfecho$dias.desfecho)\n"
   ]
  },
  {
   "cell_type": "code",
   "execution_count": 9,
   "metadata": {
    "colab": {
     "base_uri": "https://localhost:8080/",
     "height": 123
    },
    "id": "y3w8JWz40tKw",
    "outputId": "76ffad17-274d-434b-e80c-b6c268c3202f"
   },
   "outputs": [
    {
     "name": "stderr",
     "output_type": "stream",
     "text": [
      "Joining, by = \"id\"\n",
      "\n",
      "Warning message:\n",
      "“Column `id` joining factor and character vector, coercing into character vector”\n",
      "Joining, by = c(\"id\", \"id.atendimento\")\n",
      "\n",
      "Warning message:\n",
      "“Column `id.atendimento` joining factor and character vector, coercing into character vector”\n"
     ]
    },
    {
     "data": {
      "text/html": [
       "<style>\n",
       ".list-inline {list-style: none; margin:0; padding: 0}\n",
       ".list-inline>li {display: inline-block}\n",
       ".list-inline>li:not(:last-child)::after {content: \"\\00b7\"; padding: 0 .5ex}\n",
       "</style>\n",
       "<ol class=list-inline><li>33800</li><li>1</li></ol>\n"
      ],
      "text/latex": [
       "\\begin{enumerate*}\n",
       "\\item 33800\n",
       "\\item 1\n",
       "\\end{enumerate*}\n"
      ],
      "text/markdown": [
       "1. 33800\n",
       "2. 1\n",
       "\n",
       "\n"
      ],
      "text/plain": [
       "[1] 33800     1"
      ]
     },
     "metadata": {},
     "output_type": "display_data"
    },
    {
     "data": {
      "text/html": [
       "<style>\n",
       ".list-inline {list-style: none; margin:0; padding: 0}\n",
       ".list-inline>li {display: inline-block}\n",
       ".list-inline>li:not(:last-child)::after {content: \"\\00b7\"; padding: 0 .5ex}\n",
       "</style>\n",
       "<ol class=list-inline><li>5229119</li><li>23</li></ol>\n"
      ],
      "text/latex": [
       "\\begin{enumerate*}\n",
       "\\item 5229119\n",
       "\\item 23\n",
       "\\end{enumerate*}\n"
      ],
      "text/markdown": [
       "1. 5229119\n",
       "2. 23\n",
       "\n",
       "\n"
      ],
      "text/plain": [
       "[1] 5229119      23"
      ]
     },
     "metadata": {},
     "output_type": "display_data"
    }
   ],
   "source": [
    "#faz join dos três arquivos\n",
    "exames %>% left_join(pacientes) -> dados1\n",
    "dados1 %>% left_join(desfecho) -> dados\n",
    "\n",
    "#verifica quantos pacientes (ids) estão presentes\n",
    "dados %>% select(id) %>% unique %>% dim\n",
    "\n",
    "#dimensões do arquivo (uma linha por exame)\n",
    "dados %>% dim"
   ]
  },
  {
   "cell_type": "code",
   "execution_count": 10,
   "metadata": {
    "id": "aOk5pRMc95u-"
   },
   "outputs": [
    {
     "data": {
      "text/html": [
       "<style>\n",
       ".list-inline {list-style: none; margin:0; padding: 0}\n",
       ".list-inline>li {display: inline-block}\n",
       ".list-inline>li:not(:last-child)::after {content: \"\\00b7\"; padding: 0 .5ex}\n",
       "</style>\n",
       "<ol class=list-inline><li>5229119</li><li>24</li></ol>\n"
      ],
      "text/latex": [
       "\\begin{enumerate*}\n",
       "\\item 5229119\n",
       "\\item 24\n",
       "\\end{enumerate*}\n"
      ],
      "text/markdown": [
       "1. 5229119\n",
       "2. 24\n",
       "\n",
       "\n"
      ],
      "text/plain": [
       "[1] 5229119      24"
      ]
     },
     "metadata": {},
     "output_type": "display_data"
    }
   ],
   "source": [
    "#passa as colunas data.exame e data.atendimento para o formato data\n",
    "dados$data.exame <- as.Date(dados$data.exame, format=\"%d/%m/%Y\")\n",
    "dados$data.atendimento<- as.Date(dados$data.atendimento, format=\"%d/%m/%Y\")\n",
    "\n",
    "#acrescenta a coluna dias exame (depois de quantos dias após a entrada fez o exame)\n",
    "dados %>% mutate(dias.exame = (difftime( dados$data.exame, dados$data.atendimento,  unit = \"days\"))) -> dados\n",
    "dados$dias.exame <- as.integer(dados$dias.exame)\n",
    "\n",
    "#resultado \n",
    "dados %>% dim\n",
    "dados -> exames"
   ]
  },
  {
   "cell_type": "code",
   "execution_count": 13,
   "metadata": {},
   "outputs": [
    {
     "data": {
      "text/html": [
       "<table class=\"dataframe\">\n",
       "<caption>A tibble: 1 × 2</caption>\n",
       "<thead>\n",
       "\t<tr><th scope=col>exame</th><th scope=col>n</th></tr>\n",
       "\t<tr><th scope=col>&lt;fct&gt;</th><th scope=col>&lt;int&gt;</th></tr>\n",
       "</thead>\n",
       "<tbody>\n",
       "\t<tr><td>coronavirus covid19</td><td>33965</td></tr>\n",
       "</tbody>\n",
       "</table>\n"
      ],
      "text/latex": [
       "A tibble: 1 × 2\n",
       "\\begin{tabular}{ll}\n",
       " exame & n\\\\\n",
       " <fct> & <int>\\\\\n",
       "\\hline\n",
       "\t coronavirus covid19 & 33965\\\\\n",
       "\\end{tabular}\n"
      ],
      "text/markdown": [
       "\n",
       "A tibble: 1 × 2\n",
       "\n",
       "| exame &lt;fct&gt; | n &lt;int&gt; |\n",
       "|---|---|\n",
       "| coronavirus covid19 | 33965 |\n",
       "\n"
      ],
      "text/plain": [
       "  exame               n    \n",
       "1 coronavirus covid19 33965"
      ]
     },
     "metadata": {},
     "output_type": "display_data"
    }
   ],
   "source": [
    "#filtra Covid na coluna exame\n",
    "exames %>% \n",
    "filter (str_detect(exame,\"covid\") & !str_detect(exame, \"pre\") & !str_detect(exame,\"inativo\")) %>% \n",
    "count(exame)"
   ]
  },
  {
   "cell_type": "code",
   "execution_count": 14,
   "metadata": {},
   "outputs": [
    {
     "data": {
      "text/html": [
       "<table class=\"dataframe\">\n",
       "<caption>A tibble: 2 × 2</caption>\n",
       "<thead>\n",
       "\t<tr><th scope=col>analito</th><th scope=col>n</th></tr>\n",
       "\t<tr><th scope=col>&lt;fct&gt;</th><th scope=col>&lt;int&gt;</th></tr>\n",
       "</thead>\n",
       "<tbody>\n",
       "\t<tr><td>coronavirus 2019ncov</td><td>33960</td></tr>\n",
       "\t<tr><td>covid 19 cultura    </td><td>    5</td></tr>\n",
       "</tbody>\n",
       "</table>\n"
      ],
      "text/latex": [
       "A tibble: 2 × 2\n",
       "\\begin{tabular}{ll}\n",
       " analito & n\\\\\n",
       " <fct> & <int>\\\\\n",
       "\\hline\n",
       "\t coronavirus 2019ncov & 33960\\\\\n",
       "\t covid 19 cultura     &     5\\\\\n",
       "\\end{tabular}\n"
      ],
      "text/markdown": [
       "\n",
       "A tibble: 2 × 2\n",
       "\n",
       "| analito &lt;fct&gt; | n &lt;int&gt; |\n",
       "|---|---|\n",
       "| coronavirus 2019ncov | 33960 |\n",
       "| covid 19 cultura     |     5 |\n",
       "\n"
      ],
      "text/plain": [
       "  analito              n    \n",
       "1 coronavirus 2019ncov 33960\n",
       "2 covid 19 cultura         5"
      ]
     },
     "metadata": {},
     "output_type": "display_data"
    }
   ],
   "source": [
    "#filtra Covid na coluna exame - salva\n",
    "exames %>% \n",
    "filter (str_detect(exame, \"covid\") & !str_detect(exame, \"pre\") & !str_detect(exame, \"inativo\")) -> exame_pcr\n",
    "\n",
    "#verifica os analitos desses exames\n",
    "exame_pcr %>% count(analito)"
   ]
  },
  {
   "cell_type": "code",
   "execution_count": 15,
   "metadata": {},
   "outputs": [
    {
     "data": {
      "text/html": [
       "<table class=\"dataframe\">\n",
       "<caption>A tibble: 1 × 2</caption>\n",
       "<thead>\n",
       "\t<tr><th scope=col>analito</th><th scope=col>n</th></tr>\n",
       "\t<tr><th scope=col>&lt;fct&gt;</th><th scope=col>&lt;int&gt;</th></tr>\n",
       "</thead>\n",
       "<tbody>\n",
       "\t<tr><td>coronavirus 2019ncov</td><td>33960</td></tr>\n",
       "</tbody>\n",
       "</table>\n"
      ],
      "text/latex": [
       "A tibble: 1 × 2\n",
       "\\begin{tabular}{ll}\n",
       " analito & n\\\\\n",
       " <fct> & <int>\\\\\n",
       "\\hline\n",
       "\t coronavirus 2019ncov & 33960\\\\\n",
       "\\end{tabular}\n"
      ],
      "text/markdown": [
       "\n",
       "A tibble: 1 × 2\n",
       "\n",
       "| analito &lt;fct&gt; | n &lt;int&gt; |\n",
       "|---|---|\n",
       "| coronavirus 2019ncov | 33960 |\n",
       "\n"
      ],
      "text/plain": [
       "  analito              n    \n",
       "1 coronavirus 2019ncov 33960"
      ]
     },
     "metadata": {},
     "output_type": "display_data"
    }
   ],
   "source": [
    "#filtra o analito de interesse\n",
    "exame_pcr %>% filter (str_detect(analito, \"2019\"))  %>% count(analito)\n",
    "\n",
    "#filtra o analito de interesse - salva\n",
    "exame_pcr %>% filter (str_detect(analito, \"2019\"))  -> exames_pcr_covid"
   ]
  },
  {
   "cell_type": "code",
   "execution_count": 16,
   "metadata": {},
   "outputs": [
    {
     "data": {
      "text/html": [
       "<table class=\"dataframe\">\n",
       "<caption>A tibble: 9 × 2</caption>\n",
       "<thead>\n",
       "\t<tr><th scope=col>resultado</th><th scope=col>n</th></tr>\n",
       "\t<tr><th scope=col>&lt;fct&gt;</th><th scope=col>&lt;int&gt;</th></tr>\n",
       "</thead>\n",
       "<tbody>\n",
       "\t<tr><td>DETECTADO               </td><td>  993</td></tr>\n",
       "\t<tr><td>DETECTADO (POSITIVO)    </td><td> 6140</td></tr>\n",
       "\t<tr><td>DETECTAVEL              </td><td>   15</td></tr>\n",
       "\t<tr><td>Inconclusivo            </td><td>   11</td></tr>\n",
       "\t<tr><td>INCONCLUSIVO            </td><td>   34</td></tr>\n",
       "\t<tr><td>Inconclusivo            </td><td>    8</td></tr>\n",
       "\t<tr><td>INDETECTAVEL            </td><td>  198</td></tr>\n",
       "\t<tr><td>NAO DETECTADO           </td><td> 2206</td></tr>\n",
       "\t<tr><td>NAO DETECTADO (NEGATIVO)</td><td>24355</td></tr>\n",
       "</tbody>\n",
       "</table>\n"
      ],
      "text/latex": [
       "A tibble: 9 × 2\n",
       "\\begin{tabular}{ll}\n",
       " resultado & n\\\\\n",
       " <fct> & <int>\\\\\n",
       "\\hline\n",
       "\t DETECTADO                &   993\\\\\n",
       "\t DETECTADO (POSITIVO)     &  6140\\\\\n",
       "\t DETECTAVEL               &    15\\\\\n",
       "\t Inconclusivo             &    11\\\\\n",
       "\t INCONCLUSIVO             &    34\\\\\n",
       "\t Inconclusivo             &     8\\\\\n",
       "\t INDETECTAVEL             &   198\\\\\n",
       "\t NAO DETECTADO            &  2206\\\\\n",
       "\t NAO DETECTADO (NEGATIVO) & 24355\\\\\n",
       "\\end{tabular}\n"
      ],
      "text/markdown": [
       "\n",
       "A tibble: 9 × 2\n",
       "\n",
       "| resultado &lt;fct&gt; | n &lt;int&gt; |\n",
       "|---|---|\n",
       "| DETECTADO                |   993 |\n",
       "| DETECTADO (POSITIVO)     |  6140 |\n",
       "| DETECTAVEL               |    15 |\n",
       "| Inconclusivo             |    11 |\n",
       "| INCONCLUSIVO             |    34 |\n",
       "| Inconclusivo             |     8 |\n",
       "| INDETECTAVEL             |   198 |\n",
       "| NAO DETECTADO            |  2206 |\n",
       "| NAO DETECTADO (NEGATIVO) | 24355 |\n",
       "\n"
      ],
      "text/plain": [
       "  resultado                n    \n",
       "1 DETECTADO                  993\n",
       "2 DETECTADO (POSITIVO)      6140\n",
       "3 DETECTAVEL                  15\n",
       "4 Inconclusivo                11\n",
       "5 INCONCLUSIVO                34\n",
       "6 Inconclusivo                 8\n",
       "7 INDETECTAVEL               198\n",
       "8 NAO DETECTADO             2206\n",
       "9 NAO DETECTADO (NEGATIVO) 24355"
      ]
     },
     "metadata": {},
     "output_type": "display_data"
    },
    {
     "data": {
      "text/html": [
       "<table class=\"dataframe\">\n",
       "<caption>A tibble: 2 × 2</caption>\n",
       "<thead>\n",
       "\t<tr><th scope=col>resultado</th><th scope=col>n</th></tr>\n",
       "\t<tr><th scope=col>&lt;fct&gt;</th><th scope=col>&lt;int&gt;</th></tr>\n",
       "</thead>\n",
       "<tbody>\n",
       "\t<tr><td>DETECTADO           </td><td> 993</td></tr>\n",
       "\t<tr><td>DETECTADO (POSITIVO)</td><td>6140</td></tr>\n",
       "</tbody>\n",
       "</table>\n"
      ],
      "text/latex": [
       "A tibble: 2 × 2\n",
       "\\begin{tabular}{ll}\n",
       " resultado & n\\\\\n",
       " <fct> & <int>\\\\\n",
       "\\hline\n",
       "\t DETECTADO            &  993\\\\\n",
       "\t DETECTADO (POSITIVO) & 6140\\\\\n",
       "\\end{tabular}\n"
      ],
      "text/markdown": [
       "\n",
       "A tibble: 2 × 2\n",
       "\n",
       "| resultado &lt;fct&gt; | n &lt;int&gt; |\n",
       "|---|---|\n",
       "| DETECTADO            |  993 |\n",
       "| DETECTADO (POSITIVO) | 6140 |\n",
       "\n"
      ],
      "text/plain": [
       "  resultado            n   \n",
       "1 DETECTADO             993\n",
       "2 DETECTADO (POSITIVO) 6140"
      ]
     },
     "metadata": {},
     "output_type": "display_data"
    }
   ],
   "source": [
    "#nos interessam os resultados positivos\n",
    "exames_pcr_covid %>% count(resultado)\n",
    "\n",
    "#filtra os pacientes que testaram positivo\n",
    "exames_pcr_covid %>% filter (str_detect(resultado, \"DETECTADO\") & !str_detect(resultado, \"NAO\")) %>% count(resultado)"
   ]
  },
  {
   "cell_type": "code",
   "execution_count": 17,
   "metadata": {},
   "outputs": [],
   "source": [
    "#filtra os pacientes que testaram positivo - salva\n",
    "exames_pcr_covid %>% filter (str_detect(resultado, \"DETECTADO\") & !str_detect(resultado, \"NAO\")) -> exames_pcr_covid_positivo"
   ]
  },
  {
   "cell_type": "code",
   "execution_count": 18,
   "metadata": {},
   "outputs": [
    {
     "data": {
      "text/html": [
       "<table class=\"dataframe\">\n",
       "<caption>A tibble: 16 × 2</caption>\n",
       "<thead>\n",
       "\t<tr><th scope=col>dias.exame</th><th scope=col>n</th></tr>\n",
       "\t<tr><th scope=col>&lt;dbl&gt;</th><th scope=col>&lt;int&gt;</th></tr>\n",
       "</thead>\n",
       "<tbody>\n",
       "\t<tr><td> 0</td><td>6411</td></tr>\n",
       "\t<tr><td> 1</td><td> 454</td></tr>\n",
       "\t<tr><td> 2</td><td>  84</td></tr>\n",
       "\t<tr><td> 3</td><td>  27</td></tr>\n",
       "\t<tr><td> 4</td><td>   8</td></tr>\n",
       "\t<tr><td> 5</td><td>   7</td></tr>\n",
       "\t<tr><td> 6</td><td>   9</td></tr>\n",
       "\t<tr><td> 7</td><td>   5</td></tr>\n",
       "\t<tr><td> 8</td><td>   5</td></tr>\n",
       "\t<tr><td> 9</td><td>   3</td></tr>\n",
       "\t<tr><td>10</td><td>   5</td></tr>\n",
       "\t<tr><td>11</td><td>   5</td></tr>\n",
       "\t<tr><td>12</td><td>   1</td></tr>\n",
       "\t<tr><td>13</td><td>   6</td></tr>\n",
       "\t<tr><td>14</td><td>   3</td></tr>\n",
       "\t<tr><td>15</td><td>   6</td></tr>\n",
       "</tbody>\n",
       "</table>\n"
      ],
      "text/latex": [
       "A tibble: 16 × 2\n",
       "\\begin{tabular}{ll}\n",
       " dias.exame & n\\\\\n",
       " <dbl> & <int>\\\\\n",
       "\\hline\n",
       "\t  0 & 6411\\\\\n",
       "\t  1 &  454\\\\\n",
       "\t  2 &   84\\\\\n",
       "\t  3 &   27\\\\\n",
       "\t  4 &    8\\\\\n",
       "\t  5 &    7\\\\\n",
       "\t  6 &    9\\\\\n",
       "\t  7 &    5\\\\\n",
       "\t  8 &    5\\\\\n",
       "\t  9 &    3\\\\\n",
       "\t 10 &    5\\\\\n",
       "\t 11 &    5\\\\\n",
       "\t 12 &    1\\\\\n",
       "\t 13 &    6\\\\\n",
       "\t 14 &    3\\\\\n",
       "\t 15 &    6\\\\\n",
       "\\end{tabular}\n"
      ],
      "text/markdown": [
       "\n",
       "A tibble: 16 × 2\n",
       "\n",
       "| dias.exame &lt;dbl&gt; | n &lt;int&gt; |\n",
       "|---|---|\n",
       "|  0 | 6411 |\n",
       "|  1 |  454 |\n",
       "|  2 |   84 |\n",
       "|  3 |   27 |\n",
       "|  4 |    8 |\n",
       "|  5 |    7 |\n",
       "|  6 |    9 |\n",
       "|  7 |    5 |\n",
       "|  8 |    5 |\n",
       "|  9 |    3 |\n",
       "| 10 |    5 |\n",
       "| 11 |    5 |\n",
       "| 12 |    1 |\n",
       "| 13 |    6 |\n",
       "| 14 |    3 |\n",
       "| 15 |    6 |\n",
       "\n"
      ],
      "text/plain": [
       "   dias.exame n   \n",
       "1   0         6411\n",
       "2   1          454\n",
       "3   2           84\n",
       "4   3           27\n",
       "5   4            8\n",
       "6   5            7\n",
       "7   6            9\n",
       "8   7            5\n",
       "9   8            5\n",
       "10  9            3\n",
       "11 10            5\n",
       "12 11            5\n",
       "13 12            1\n",
       "14 13            6\n",
       "15 14            3\n",
       "16 15            6"
      ]
     },
     "metadata": {},
     "output_type": "display_data"
    },
    {
     "data": {
      "text/html": [
       "<table class=\"dataframe\">\n",
       "<caption>A data.frame: 1 × 1</caption>\n",
       "<thead>\n",
       "\t<tr><th scope=col>n</th></tr>\n",
       "\t<tr><th scope=col>&lt;int&gt;</th></tr>\n",
       "</thead>\n",
       "<tbody>\n",
       "\t<tr><td>7022</td></tr>\n",
       "</tbody>\n",
       "</table>\n"
      ],
      "text/latex": [
       "A data.frame: 1 × 1\n",
       "\\begin{tabular}{l}\n",
       " n\\\\\n",
       " <int>\\\\\n",
       "\\hline\n",
       "\t 7022\\\\\n",
       "\\end{tabular}\n"
      ],
      "text/markdown": [
       "\n",
       "A data.frame: 1 × 1\n",
       "\n",
       "| n &lt;int&gt; |\n",
       "|---|\n",
       "| 7022 |\n",
       "\n"
      ],
      "text/plain": [
       "  n   \n",
       "1 7022"
      ]
     },
     "metadata": {},
     "output_type": "display_data"
    }
   ],
   "source": [
    "#filtra os pacientes que testaram positivo em no máximo 15 dias\n",
    "\n",
    "#transforma a coluna dias.exame em numérica\n",
    "exames_pcr_covid_positivo$dias.exame <- as.numeric(exames_pcr_covid_positivo$dias.exame)\n",
    "\n",
    "#filtra os exames feitos em no máximo 15 dias\n",
    "exames_pcr_covid_positivo %>% filter(dias.exame <16) -> exames_pcr_covid_positivo\n",
    "\n",
    "#verifica se o filtro funcionou como esperado\n",
    "exames_pcr_covid_positivo %>% count(dias.exame)\n",
    "\n",
    "#seleciona os ids.atendimento dos pacientes que testaram positivo em no máximo 15 dias\n",
    "exames_pcr_covid_positivo %>%\n",
    "select(id.atendimento) %>% unique -> id_positivo\n",
    "\n",
    "#número de ids.atendimento que testaram positivo em no máximo 15 dias\n",
    "id_positivo %>% tally\n"
   ]
  },
  {
   "cell_type": "code",
   "execution_count": 19,
   "metadata": {},
   "outputs": [
    {
     "data": {
      "text/html": [
       "<style>\n",
       ".list-inline {list-style: none; margin:0; padding: 0}\n",
       ".list-inline>li {display: inline-block}\n",
       ".list-inline>li:not(:last-child)::after {content: \"\\00b7\"; padding: 0 .5ex}\n",
       "</style>\n",
       "<ol class=list-inline><li>552294</li><li>24</li></ol>\n"
      ],
      "text/latex": [
       "\\begin{enumerate*}\n",
       "\\item 552294\n",
       "\\item 24\n",
       "\\end{enumerate*}\n"
      ],
      "text/markdown": [
       "1. 552294\n",
       "2. 24\n",
       "\n",
       "\n"
      ],
      "text/plain": [
       "[1] 552294     24"
      ]
     },
     "metadata": {},
     "output_type": "display_data"
    }
   ],
   "source": [
    "#filtra todos os exames feitos pelos ids.atendimento positivos\n",
    "exames %>% filter(id.atendimento %in% id_positivo$id.atendimento) -> exames\n",
    "\n",
    "#dimensão após filtro\n",
    "exames %>% dim\n"
   ]
  },
  {
   "cell_type": "code",
   "execution_count": 20,
   "metadata": {},
   "outputs": [
    {
     "data": {
      "text/html": [
       "<style>\n",
       ".list-inline {list-style: none; margin:0; padding: 0}\n",
       ".list-inline>li {display: inline-block}\n",
       ".list-inline>li:not(:last-child)::after {content: \"\\00b7\"; padding: 0 .5ex}\n",
       "</style>\n",
       "<ol class=list-inline><li>6786</li><li>1</li></ol>\n"
      ],
      "text/latex": [
       "\\begin{enumerate*}\n",
       "\\item 6786\n",
       "\\item 1\n",
       "\\end{enumerate*}\n"
      ],
      "text/markdown": [
       "1. 6786\n",
       "2. 1\n",
       "\n",
       "\n"
      ],
      "text/plain": [
       "[1] 6786    1"
      ]
     },
     "metadata": {},
     "output_type": "display_data"
    },
    {
     "data": {
      "text/html": [
       "<style>\n",
       ".list-inline {list-style: none; margin:0; padding: 0}\n",
       ".list-inline>li {display: inline-block}\n",
       ".list-inline>li:not(:last-child)::after {content: \"\\00b7\"; padding: 0 .5ex}\n",
       "</style>\n",
       "<ol class=list-inline><li>7022</li><li>1</li></ol>\n"
      ],
      "text/latex": [
       "\\begin{enumerate*}\n",
       "\\item 7022\n",
       "\\item 1\n",
       "\\end{enumerate*}\n"
      ],
      "text/markdown": [
       "1. 7022\n",
       "2. 1\n",
       "\n",
       "\n"
      ],
      "text/plain": [
       "[1] 7022    1"
      ]
     },
     "metadata": {},
     "output_type": "display_data"
    }
   ],
   "source": [
    "#verifica quantos pacientes (ids) e em quantos atendimentos (id.atendimento) \n",
    "exames %>% select(id) %>% unique %>% dim\n",
    "exames %>% select(id.atendimento) %>% unique %>% dim"
   ]
  },
  {
   "cell_type": "code",
   "execution_count": 21,
   "metadata": {},
   "outputs": [
    {
     "data": {
      "text/html": [
       "7021"
      ],
      "text/latex": [
       "7021"
      ],
      "text/markdown": [
       "7021"
      ],
      "text/plain": [
       "[1] 7021"
      ]
     },
     "metadata": {},
     "output_type": "display_data"
    },
    {
     "data": {
      "text/html": [
       "6786"
      ],
      "text/latex": [
       "6786"
      ],
      "text/markdown": [
       "6786"
      ],
      "text/plain": [
       "[1] 6786"
      ]
     },
     "metadata": {},
     "output_type": "display_data"
    },
    {
     "data": {
      "text/html": [
       "<style>\n",
       ".list-inline {list-style: none; margin:0; padding: 0}\n",
       ".list-inline>li {display: inline-block}\n",
       ".list-inline>li:not(:last-child)::after {content: \"\\00b7\"; padding: 0 .5ex}\n",
       "</style>\n",
       "<ol class=list-inline><li>200161</li><li>24</li></ol>\n"
      ],
      "text/latex": [
       "\\begin{enumerate*}\n",
       "\\item 200161\n",
       "\\item 24\n",
       "\\end{enumerate*}\n"
      ],
      "text/markdown": [
       "1. 200161\n",
       "2. 24\n",
       "\n",
       "\n"
      ],
      "text/plain": [
       "[1] 200161     24"
      ]
     },
     "metadata": {},
     "output_type": "display_data"
    }
   ],
   "source": [
    "#filtra os exames feitos até o quarto dia após atendimento\n",
    "exames %>% filter(dias.exame == \"0\" | dias.exame == \"1\" | dias.exame == \"2\" | dias.exame == \"3\" | dias.exame == \"4\") -> exames\n",
    "\n",
    "#cria mais uma coluna unindo exameEanalito\n",
    "exames %>% mutate(exameEanalito = (str_c(exame, \"/\", analito))) -> exames\n",
    "\n",
    "#verifica quantos pacientes (ids) e em quantos atendimentos (id.atendimento) \n",
    "exames$id.atendimento %>% unique() %>% length()\n",
    "exames$id %>% unique() %>% length()\n",
    "\n",
    "#dimensão dos dados após o filtro\n",
    "exames %>% dim\n",
    "\n",
    "#verifica se o filtro funcionou como esperado\n",
    "exames %>% count(dias.exame)"
   ]
  },
  {
   "cell_type": "code",
   "execution_count": null,
   "metadata": {},
   "outputs": [],
   "source": [
    "#alguns exames foram feitos mais de uma vez dentro do mesmo id de atendimento, remove ficando com o último resultado\n",
    "exames %>% group_by(id.atendimento,  exameEanalito) %>% arrange((dias.exame)) %>% slice(1) %>% ungroup -> exames\n",
    "\n",
    "#dimensão dos dados após o filtro\n",
    "exames %>% dim "
   ]
  },
  {
   "cell_type": "code",
   "execution_count": null,
   "metadata": {},
   "outputs": [],
   "source": [
    "#nomes das colunas\n",
    "exames %>% colnames\n",
    "\n",
    "#tipos de desfecho\n",
    "exames %>% count(desfecho.paciente)\n",
    "\n",
    "#quantos pacientes foram internados mais de 9 dias\n",
    "exames %>% filter (tipo.atendimento == 'Internado') %>% filter(dias.desfecho > 9) %>% dim"
   ]
  },
  {
   "cell_type": "code",
   "execution_count": null,
   "metadata": {},
   "outputs": [],
   "source": [
    "#cria essas variáveis para verificar se a gravidade foi atribuida corretamente\n",
    "obito_1 <- 0\n",
    "obito_2 <- 0\n",
    "obito_3 <- 0\n",
    "obito_4 <- 0\n",
    "internado <- 0\n",
    "\n",
    "#adiciona uma coluna com a gravidade = não\n",
    "exames %>% mutate(gravidade = 0) -> exames\n",
    "\n",
    "\n",
    "#condições de gravidade\n",
    "for (i in (1:nrow(exames))){ #percorre todo o arquivo\n",
    "  dias <- exames$dias.desfecho[i]\n",
    "  desfpac <- exames$desfecho.paciente[i]\n",
    "\n",
    "  #se paciente internado e mais de 9 dias entre a entrada e o desfecho\n",
    "  if (!(is.na(dias)) && exames$tipo.atendimento[i] == \"Internado\" && dias > 9){ \n",
    "   exames$gravidade[i] <- 1\n",
    "   internado = internado+1}\n",
    "\n",
    "  \n",
    "  #se óbito\n",
    "  if (!(is.na(desfpac)) &\n",
    "      desfpac == \"Obito com declaracao fornecida pelo medico assistente Maior que 24 Horas de inte\")\n",
    "  {   exames$gravidade[i] <- 1 \n",
    "      obito_1 = obito_1+1}\n",
    "\n",
    "  if (!(is.na(desfpac)) &\n",
    "      desfpac == \"Obito com declaracao fornecida pelo medico assistente Menor que 24 Horas de inte\")\n",
    "  {   exames$gravidade[i] <- 1  \n",
    "      obito_2 = obito_2+1}\n",
    "\n",
    "  if (!(is.na(desfpac)) &\n",
    "      desfpac == \"Obito com declaracao fornecida pelo- IML Maior que 24 Horas de internacao\")\n",
    "  {   exames$gravidade[i] <- 1 \n",
    "      obito_3 = obito_3+1}\n",
    "\n",
    "  if (!(is.na(desfpac)) &\n",
    "      desfpac == \"Obito com declaracao fornecida pelo- SVO Maior que 24 Horas de internacao\")\n",
    "  {   exames$gravidade[i] <- 1 \n",
    "      obito_4 = obito_4+1}\n",
    "}\n",
    "\n",
    "#verifica se gravidade foi atribuída corretamente\n",
    "exames %>% count(gravidade)\n",
    "obito_1\n",
    "obito_2\n",
    "obito_3\n",
    "obito_4\n",
    "internado"
   ]
  },
  {
   "cell_type": "code",
   "execution_count": null,
   "metadata": {},
   "outputs": [],
   "source": [
    "#dimensão dos dados \n",
    "exames %>% dim\n",
    "\n",
    "#acrescenta a coluna idade\n",
    "exames %>% mutate(idade = (as.numeric(format(as.Date(exames$data.atendimento), '%Y')) -  \n",
    "                as.numeric(exames$nascimento.ano))) -> exames\n",
    "\n",
    "exames %>% count(idade)\n",
    "\n",
    "#transforma sexo em númerico\n",
    "as.character(exames$sexo) -> exames$sexo\n",
    "exames$sexo[exames$sexo == \"F\"] <- 1\n",
    "exames$sexo[exames$sexo == \"M\"] <- 0\n",
    "as.numeric(exames$sexo) -> exames$sexo\n",
    "exames %>% count(sexo)"
   ]
  },
  {
   "cell_type": "code",
   "execution_count": null,
   "metadata": {},
   "outputs": [],
   "source": [
    "exames %>% colnames\n",
    "exames %>% ncol"
   ]
  },
  {
   "cell_type": "code",
   "execution_count": null,
   "metadata": {},
   "outputs": [],
   "source": [
    "#pivota transformando cada id.atendimento em uma linha\n",
    "exames %>%   select(c(1,2,5,10,11,17,26,25)) %>% #seleciona as colunas id, exame+analito e resultado, idade, sexo, gravidade\n",
    "  group_by('id.atendimento') %>% #agrupa por id\n",
    "  pivot_wider(names_from = exameEanalito, values_from = resultado) %>%  #pivota transformando exame+analito em várias colunas\n",
    "  ungroup -> pivotado \n",
    "\n",
    "#quantos atendimentos são graves\n",
    "pivotado %>% count(gravidade)\n",
    "\n",
    "#nova dimensão dos dados\n",
    "pivotado %>% dim\n"
   ]
  },
  {
   "cell_type": "code",
   "execution_count": null,
   "metadata": {},
   "outputs": [],
   "source": [
    "#remove os pacientes que não fizeram hemograma - verificado pelo analito neutrófilos\n",
    "pivotado = pivotado[!is.na(pivotado$'hemograma/neutrofilos'),  ]\n",
    "\n",
    "#dimensão dos dados após o filtro\n",
    "pivotado %>% dim\n",
    "\n",
    "#quantos são graves\n",
    "pivotado %>% count(gravidade)\n",
    "\n",
    "#quantos pacientes há na base\n",
    "pivotado %>% select(id) %>% unique %>% dim"
   ]
  },
  {
   "cell_type": "code",
   "execution_count": null,
   "metadata": {},
   "outputs": [],
   "source": [
    "#filtra apenas um id.atendimento por paciente\n",
    "pivotado %>% group_by(id) %>% arrange(desc(data.atendimento)) %>% slice(1) %>% ungroup -> pivotado\n",
    "\n",
    "#dimensão dos dados após o filtro\n",
    "pivotado %>% dim\n",
    "\n",
    "#quantos são graves\n",
    "pivotado %>% count(gravidade)\n",
    "\n",
    "pivotado -> exames"
   ]
  },
  {
   "cell_type": "code",
   "execution_count": null,
   "metadata": {},
   "outputs": [],
   "source": [
    "#quais datas foram abarcadas nesse intervalo\n",
    "pivotado %>% count(data.atendimento)"
   ]
  },
  {
   "cell_type": "code",
   "execution_count": null,
   "metadata": {},
   "outputs": [],
   "source": [
    "#algumas exames contém valores não númericos\n",
    "exames <- data.frame(lapply(exames, function(x) {gsub(\"superior a\", \"\", x)}))\n",
    "exames <- data.frame(lapply(exames, function(x) {gsub( \"inferior a\", \"\", x)}))\n",
    "exames <- data.frame(lapply(exames, function(x) {gsub( \"1.000.000.\", \"1000000\", x)}))\n",
    "exames <- data.frame(lapply(exames, function(x) {gsub( \"g/L\", \"\", x)}))\n",
    "exames <- data.frame(lapply(exames, function(x) {gsub( \"1.000.000\", \"1000000\", x)}))\n",
    "exames <- data.frame(lapply(exames, function(x) {gsub( \"negativa\", \"0\", x)}))\n",
    "exames <- data.frame(lapply(exames, function(x) {gsub( \"Parcial Positivo\", \"1\", x)}))\n",
    "exames <- data.frame(lapply(exames, function(x) {gsub( \"Parcial Nositivo\", \"0\", x)}))\n",
    "exames <- data.frame(lapply(exames, function(x) {gsub( \"POSITIVO\", \"1\", x)}))\n",
    "exames <- data.frame(lapply(exames, function(x) {gsub( \"NEGATIVO\", \"0\", x)}))\n",
    "exames <- data.frame(lapply(exames, function(x) {gsub( \"NÃO REAGENTE\", \"0\", x)}))\n",
    "exames <- data.frame(lapply(exames, function(x) {gsub( \"REAGENTE\", \"1\", x)}))\n",
    "exames <- data.frame(lapply(exames, function(x) {gsub( \"Indeterminado\", \"NA\", x)}))\n",
    "exames <- data.frame(lapply(exames, function(x) {gsub( \"não reagente\", \"0\", x)}))\n",
    "exames <- data.frame(lapply(exames, function(x) {gsub( \"REAGENTE. maior ou igual a 1000\", \"1000\", x)}))\n",
    "exames <- data.frame(lapply(exames, function(x) {gsub( \"Parcial Negativo\", \"0\", x)}))"
   ]
  },
  {
   "cell_type": "code",
   "execution_count": null,
   "metadata": {},
   "outputs": [],
   "source": [
    "#transforma o formato das colunas\n",
    "dados <- as.numeric(exames)\n"
   ]
  },
  {
   "cell_type": "code",
   "execution_count": null,
   "metadata": {},
   "outputs": [],
   "source": [
    "#quantas e quais são as colunas não numéricas\n",
    "dados %>% dplyr::select(where(is.character)) %>% ncol\n",
    "\n",
    "dados %>% dplyr::select(where(is.character)) %>% colnames"
   ]
  },
  {
   "cell_type": "code",
   "execution_count": null,
   "metadata": {},
   "outputs": [],
   "source": [
    "#filtra apenas as colunas numéricas\n",
    "dados %>% dplyr::select(where(is.numeric)) -> dados\n",
    "\n",
    "#resultado\n",
    "dados %>% dim\n",
    "dados %>% count(gravidade)"
   ]
  },
  {
   "cell_type": "code",
   "execution_count": null,
   "metadata": {},
   "outputs": [],
   "source": [
    "#filtra apenas os pacientes graves\n",
    "dados %>% filter(gravidade == 1) -> graves\n",
    "\n",
    "#filtra os exames que ao menos 50% de valores não ausentes nesta classe\n",
    "\n",
    "colunas = c()\n",
    "#para cada coluna \n",
    "for (i in 1:ncol(dados)) { \n",
    "  #conta os valores diferentes de NA\n",
    "  temp = sum(!is.na(graves[,i]))\n",
    "  #se os valores diferentes de NA forem mais da metade do total de graves seleciona essa coluna\n",
    "  if (temp >= (nrow(graves)/2)) {colunas <- append(colunas, i)}\n",
    "}\n",
    "\n",
    "#filtra as colunas selecionadas\n",
    "dados %>% select(all_of(colunas)) -> dados\n",
    "\n",
    "#número de colunas\n",
    "dados %>% ncol\n"
   ]
  },
  {
   "cell_type": "code",
   "execution_count": null,
   "metadata": {},
   "outputs": [],
   "source": [
    "#filtra apenas os pacientes não graves\n",
    "dados %>% filter(gravidade == 0) -> ngraves\n",
    "\n",
    "#filtra os exames que ao menos 50% de valores não ausentes nesta classe\n",
    "\n",
    "colunas = c()\n",
    "#para cada coluna \n",
    "for (i in 1:ncol(dados)) { \n",
    "    #conta os valores diferentes de NA\n",
    "    temp = sum(!is.na(ngraves[,i]))\n",
    "    #se os valores diferentes de NA forem mais da metade do total de ngraves seleciona essa coluna\n",
    "    if (temp >= (nrow(ngraves)/2)) {colunas <- append(colunas, i)}\n",
    "}\n",
    "\n",
    "#filtra as colunas selecionadas\n",
    "dados %>% select(all_of(colunas)) -> dados\n",
    "\n",
    "#número de colunas\n",
    "dados %>% ncol"
   ]
  },
  {
   "cell_type": "code",
   "execution_count": null,
   "metadata": {},
   "outputs": [],
   "source": [
    "#conjunto de funções para remover valores extremos, foram removidos 4 valores extremos por variável\n",
    "#a decisão por remover valores extremos à direita, à esquerda ou de ambas foi feita a partir de análise visual dos histogramas\n",
    "\n",
    "#biblioteca usada para transformar os valores em na\n",
    "library(naniar)\n",
    "\n",
    "#função para transformar em NA os valores extremos da direita\n",
    "re_extremos_dir <- function(column) {\n",
    "\n",
    "  #a função map passa as colunas como listas\n",
    "  #transforma em tibble e acrescenta um \"nome\"\n",
    "  column %>% as.tibble -> column\n",
    "  colnames(column)[1] <- \"label\" \n",
    "\n",
    "  #define os 4 valores extremos à direita\n",
    "  column %>% na.omit %>% count(label) %>% slice(tail(row_number(), 4)) %>% select(1) %>% as.list -> limite\n",
    "  limite[[1]] ->> limite\n",
    "\n",
    "  #transforma esses valores em NA\n",
    "  column %>% replace_with_na_all(condition = ~.x %in% limite) -> column\n",
    "  \n",
    "} \n",
    "\n",
    "#função para transformar em NA os valores extremos da esquerda\n",
    "re_extremos_esq <- function(column) {\n",
    "\n",
    "  #a função map passa as colunas como listas\n",
    "  #transforma em tibble e acrescenta um \"nome\"\n",
    "  column %>% as.tibble -> column\n",
    "  colnames(column)[1] <- \"label\" \n",
    "\n",
    "  #define os 4 valores extremos à esquerda\n",
    "  column %>% count(label) %>% slice(1:4) %>% select(1) %>% as.list -> limite\n",
    "  c(limite[[1]]) ->> limite\n",
    "\n",
    "  #transforma esses valores em NA\n",
    "  column %>% replace_with_na_all(condition = ~.x %in% limite) -> column\n",
    "\n",
    "  \n",
    "}\n",
    "\n",
    "#função para transformar em NA os valores extremos da esquerda e da direita\n",
    "re_extremos_dir_esq <- function(column) {\n",
    "\n",
    "  #a função map passa as colunas como listas\n",
    "  #transforma em tibble e acrescenta um \"nome\"\n",
    "  column %>% as.tibble -> column\n",
    "  colnames(column)[1] <- \"label\" \n",
    "\n",
    "  #define os 2 valores extremos à esquerda\n",
    "  column %>% count(label) %>% slice(1:2) %>% select(1) %>% as.list -> limite\n",
    "  c(limite[[1]]) ->> limite\n",
    "\n",
    "  #define os 2 valores extremos à direita\n",
    "  column %>% na.omit %>% count(label) %>% slice(tail(row_number(), 2)) %>% select(1) %>% as.list -> limite2\n",
    "  c(limite2[[1]]) ->> limite2\n",
    "\n",
    "  #transforma esses valores em NA\n",
    "  column %>% replace_with_na_all(condition = ~.x %in% limite2) -> column\n",
    "  column %>% replace_with_na_all(condition = ~.x %in% limite) -> column\n",
    "\n",
    "}\n"
   ]
  },
  {
   "cell_type": "code",
   "execution_count": null,
   "metadata": {},
   "outputs": [],
   "source": [
    "library(ggplot2)\n",
    "\n",
    "for (i in (1:ncol(dados))){\n",
    "\n",
    "  label <- (dados[i] %>% colnames)\n",
    "  #label <- label %>% str_replace(\".\", \"\")\n",
    "  exame <- dados %>% select(i) %>% as.list\n",
    "  exame[[1]] -> exame\n",
    "  #b <-(max(exame)-min(exame))/50\n",
    "  His <- ggplot(data=dados, \n",
    "  aes(x=exame))+\n",
    "  geom_histogram(bins = 50, color=\"black\", aes(fill=factor(gravidade))) +  \n",
    "  xlab(label) +   ylab(\"Frequencia\") +      \n",
    "  theme(legend.position=\"none\")+  ggtitle(paste(\"Histograma\", label))+      \n",
    "  geom_vline(data=dados, aes(xintercept = median(exame)),linetype=\"dashed\",color=\"grey\")\n",
    "  show(His)\n",
    "}\n"
   ]
  },
  {
   "cell_type": "code",
   "execution_count": null,
   "metadata": {},
   "outputs": [],
   "source": [
    "#variáveis com histograma dislocado à esquerda, remover valores extremos da direita\n",
    "dados %>% select('creatinina.plasma.creatinina',\n",
    "                 'hemograma.basofilos',\n",
    "                 'hemograma.basofilos.percentual',\n",
    "                 'hemograma.eosinofilos',\n",
    "                 'hemograma.eosinofilos.percentual',\n",
    "                 'hemograma.leucocitos',\n",
    "                 'hemograma.linfocitos',\n",
    "                 'hemograma.linfocitos.percentual',\n",
    "                 'hemograma.monocitos',\n",
    "                 'hemograma.monocitos.percentual',\n",
    "                 'hemograma.neutrofilos',\n",
    "                 'hemograma.rdw',\n",
    "                 'hemograma.volume.plaquetario.medio',\n",
    "                 'proteina.c.reativa.plasma.proteina.creativa',\n",
    "                 'sodio.sodio',\n",
    "                 'ureia.plasma.ureia',\n",
    "                 'dimero.d.plasma.dimeros.d.quantitativo',\n",
    "                 'potassio.potassio') -> dados_dir\n",
    "\n",
    "#aplica a função a cada coluna\n",
    "dados_dir %>% map(~ re_extremos_dir(.)) %>% as.data.frame -> dados_dir\n",
    "\n",
    "#renomeia\n",
    "names(dados_dir) <-c('creatinina.plasma.creatinina',\n",
    "                 'hemograma.basofilos',\n",
    "                 'hemograma.basofilos.percentual',\n",
    "                 'hemograma.eosinofilos',\n",
    "                 'hemograma.eosinofilos.percentual',\n",
    "                 'hemograma.leucocitos',\n",
    "                 'hemograma.linfocitos',\n",
    "                 'hemograma.linfocitos.percentual',\n",
    "                 'hemograma.monocitos',\n",
    "                 'hemograma.monocitos.percentual',\n",
    "                 'hemograma.neutrofilos',\n",
    "                 'hemograma.rdw',\n",
    "                 'hemograma.volume.plaquetario.medio',\n",
    "                 'proteina.c.reativa.plasma.proteina.creativa',\n",
    "                 'sodio.sodio',\n",
    "                 'ureia.plasma.ureia',\n",
    "                 'dimero.d.plasma.dimeros.d.quantitativo',\n",
    "                    'potassio.potassio')\n"
   ]
  },
  {
   "cell_type": "code",
   "execution_count": null,
   "metadata": {},
   "outputs": [],
   "source": [
    "#variáveis com histograma dislocado à direita, remover valores extremos da esquerda\n",
    "dados %>% select('hemograma.concentracao.de.hemoglobina.corpuscular',\n",
    "                 'hemograma.eritrocitos',\n",
    "                 'hemograma.hematocrito',\n",
    "                 'hemograma.hemoglobina',                 \n",
    "                 'hemograma.neutrofilos.percentual' ) -> dados_esq\n",
    "\n",
    "#aplica a função a cada coluna\n",
    "dados_esq %>% map(~ re_extremos_esq(.)) %>% as.data.frame -> dados_esq\n",
    "\n",
    "#renomeia\n",
    "names(dados_esq) <- c('hemograma.concentracao.de.hemoglobina.corpuscular',\n",
    "                     'hemograma.eritrocitos',\n",
    "                     'hemograma.hematocrito',\n",
    "                     'hemograma.hemoglobina',                 \n",
    "                     'hemograma.neutrofilos.percentual')"
   ]
  },
  {
   "cell_type": "code",
   "execution_count": null,
   "metadata": {},
   "outputs": [],
   "source": [
    "#variáveis com histograma centralizado, remover extremos da direita e da esquerda\n",
    "dados %>% select('hemograma.hemoglobina.corpuscular.media', 'hemograma.vcm') -> dados_dir_esq\n",
    "\n",
    "#aplica a função a cada coluna\n",
    "dados_dir_esq %>% map(~ re_extremos_dir_esq(.)) %>% as.data.frame -> dados_dir_esq\n",
    "\n",
    "#renomeia\n",
    "names(dados_dir_esq) <- c('hemograma.hemoglobina.corpuscular.media','hemograma.vcm')"
   ]
  },
  {
   "cell_type": "code",
   "execution_count": null,
   "metadata": {},
   "outputs": [],
   "source": [
    "#variáveis que não tiveram remoção de extremos\n",
    "dados %>% select(\"sexo\", \"gravidade\") -> dados_2\n",
    "\n",
    "#une as variáveis novamente\n",
    "dados_2 %>% cbind(dados_dir) %>% cbind(dados_esq) %>% cbind(dados_dir_esq) -> dados\n",
    "dados %>% dim\n",
    "dados %>% count(gravidade)"
   ]
  },
  {
   "cell_type": "code",
   "execution_count": null,
   "metadata": {},
   "outputs": [],
   "source": [
    "#nomes das variáveis\n",
    "dados %>% colnames\n",
    "\n",
    "#visualiza dos dados\n",
    "dados %>% head\n",
    "\n",
    "#coloca gravidade como última coluna\n",
    "dados %>% select(gravidade) -> gravidade\n",
    "dados %>% select(-gravidade) -> dado\n",
    "cbind(dado,gravidade) -> dados\n"
   ]
  },
  {
   "cell_type": "code",
   "execution_count": null,
   "metadata": {},
   "outputs": [],
   "source": [
    "#renomeia as colunas\n",
    "names(dados) <- (c('Sex', 'Creatinine','Basophils',\n",
    "                   'Basophils(%)','Eosinophils', 'Eosinophils(%)',\n",
    "                   'Leukocytes','Lymphocytes', 'Lymphocytes(%)',\n",
    "                   'Monocytes', 'Monocytes(%)','Neutrophils',\n",
    "                   'RDW', 'MPV', 'C-reative protein',\n",
    "                   'Sodium', 'Urea', 'D-dimers',\n",
    "                   'Potassium','CHC', 'Erythrocytes', \n",
    "                   'Hematocrit', 'Hemoglobin', 'Neutrophils(%)', \n",
    "                   'MCH', 'MCV', 'Severity'))"
   ]
  },
  {
   "cell_type": "code",
   "execution_count": null,
   "metadata": {},
   "outputs": [],
   "source": [
    "#escreve um arquivo com os dados processados\n",
    "dados %>% write_csv(\"bp.csv\")"
   ]
  }
 ],
 "metadata": {
  "colab": {
   "collapsed_sections": [],
   "name": "Integração dados - BP",
   "provenance": []
  },
  "kernelspec": {
   "display_name": "R",
   "language": "R",
   "name": "ir"
  },
  "language_info": {
   "codemirror_mode": "r",
   "file_extension": ".r",
   "mimetype": "text/x-r-source",
   "name": "R",
   "pygments_lexer": "r",
   "version": "3.6.3"
  }
 },
 "nbformat": 4,
 "nbformat_minor": 4
}

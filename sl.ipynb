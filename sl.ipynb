{
 "cells": [
  {
   "cell_type": "markdown",
   "metadata": {},
   "source": [
    "Integração e processamento de dados para estudo de gravidade. \n",
    "Autoras: Maria Gabriela Valeriano e Ana Carolina Lorena\n",
    "Dados disponíveis em: https://repositoriodatasharingfapesp.uspdigital.usp.br/\n",
    "\n",
    "Os arquivo contendo os exames passou por um processamento anterior (notebook: sl_nomesexames)"
   ]
  },
  {
   "cell_type": "code",
   "execution_count": 1,
   "metadata": {
    "id": "ypI1tuaA9tp2"
   },
   "outputs": [
    {
     "name": "stderr",
     "output_type": "stream",
     "text": [
      "── \u001b[1mAttaching packages\u001b[22m ─────────────────────────────────────── tidyverse 1.3.1 ──\n",
      "\n",
      "\u001b[32m✔\u001b[39m \u001b[34mggplot2\u001b[39m 3.3.4     \u001b[32m✔\u001b[39m \u001b[34mpurrr  \u001b[39m 0.3.4\n",
      "\u001b[32m✔\u001b[39m \u001b[34mtibble \u001b[39m 3.1.2     \u001b[32m✔\u001b[39m \u001b[34mdplyr  \u001b[39m 1.0.6\n",
      "\u001b[32m✔\u001b[39m \u001b[34mtidyr  \u001b[39m 1.1.3     \u001b[32m✔\u001b[39m \u001b[34mstringr\u001b[39m 1.4.0\n",
      "\u001b[32m✔\u001b[39m \u001b[34mreadr  \u001b[39m 1.4.0     \u001b[32m✔\u001b[39m \u001b[34mforcats\u001b[39m 0.5.1\n",
      "\n",
      "── \u001b[1mConflicts\u001b[22m ────────────────────────────────────────── tidyverse_conflicts() ──\n",
      "\u001b[31m✖\u001b[39m \u001b[34mdplyr\u001b[39m::\u001b[32mfilter()\u001b[39m masks \u001b[34mstats\u001b[39m::filter()\n",
      "\u001b[31m✖\u001b[39m \u001b[34mdplyr\u001b[39m::\u001b[32mlag()\u001b[39m    masks \u001b[34mstats\u001b[39m::lag()\n",
      "\n"
     ]
    }
   ],
   "source": [
    "#carrega o pacote tidyverse\n",
    "library(tidyverse)"
   ]
  },
  {
   "cell_type": "code",
   "execution_count": 2,
   "metadata": {
    "colab": {
     "base_uri": "https://localhost:8080/",
     "height": 52
    },
    "id": "C09MKIfIGo5z",
    "outputId": "e6a01d1d-3955-4d7a-a6c1-27b85a433307"
   },
   "outputs": [
    {
     "data": {
      "text/html": [
       "<style>\n",
       ".list-inline {list-style: none; margin:0; padding: 0}\n",
       ".list-inline>li {display: inline-block}\n",
       ".list-inline>li:not(:last-child)::after {content: \"\\00b7\"; padding: 0 .5ex}\n",
       "</style>\n",
       "<ol class=list-inline><li>14673</li><li>7</li></ol>\n"
      ],
      "text/latex": [
       "\\begin{enumerate*}\n",
       "\\item 14673\n",
       "\\item 7\n",
       "\\end{enumerate*}\n"
      ],
      "text/markdown": [
       "1. 14673\n",
       "2. 7\n",
       "\n",
       "\n"
      ],
      "text/plain": [
       "[1] 14673     7"
      ]
     },
     "metadata": {},
     "output_type": "display_data"
    },
    {
     "data": {
      "text/html": [
       "<style>\n",
       ".list-inline {list-style: none; margin:0; padding: 0}\n",
       ".list-inline>li {display: inline-block}\n",
       ".list-inline>li:not(:last-child)::after {content: \"\\00b7\"; padding: 0 .5ex}\n",
       "</style>\n",
       "<ol class=list-inline><li>14673</li><li>7</li></ol>\n"
      ],
      "text/latex": [
       "\\begin{enumerate*}\n",
       "\\item 14673\n",
       "\\item 7\n",
       "\\end{enumerate*}\n"
      ],
      "text/markdown": [
       "1. 14673\n",
       "2. 7\n",
       "\n",
       "\n"
      ],
      "text/plain": [
       "[1] 14673     7"
      ]
     },
     "metadata": {},
     "output_type": "display_data"
    }
   ],
   "source": [
    "#lê o arquivo pacientes do Sírio\n",
    "pacientes <- read.csv(\"HSL_Pacientes_4.csv\", sep = \"|\")\n",
    "\n",
    "#dimensões \n",
    "pacientes %>% dim\n",
    "\n",
    "#verifica se tem linhas repetidas\n",
    "pacientes %>% unique %>% dim"
   ]
  },
  {
   "cell_type": "code",
   "execution_count": 3,
   "metadata": {
    "id": "A55_CAQyIj20"
   },
   "outputs": [],
   "source": [
    "#renomeia as colunas\n",
    "names(pacientes) <- c('id', 'sexo', 'nascimento.ano', 'país', 'estado', 'cidade', 'CEP')\n",
    "\n",
    "#número de pacientes\n",
    "pacientes %>% select(id) %>% unique %>% nrow"
   ]
  },
  {
   "cell_type": "code",
   "execution_count": 4,
   "metadata": {
    "colab": {
     "base_uri": "https://localhost:8080/",
     "height": 52
    },
    "id": "8Y5QaiHn919p",
    "outputId": "857a707a-b945-4f3d-ca58-9e593d071158"
   },
   "outputs": [
    {
     "data": {
      "text/html": [
       "<style>\n",
       ".list-inline {list-style: none; margin:0; padding: 0}\n",
       ".list-inline>li {display: inline-block}\n",
       ".list-inline>li:not(:last-child)::after {content: \"\\00b7\"; padding: 0 .5ex}\n",
       "</style>\n",
       "<ol class=list-inline><li>2952999</li><li>10</li></ol>\n"
      ],
      "text/latex": [
       "\\begin{enumerate*}\n",
       "\\item 2952999\n",
       "\\item 10\n",
       "\\end{enumerate*}\n"
      ],
      "text/markdown": [
       "1. 2952999\n",
       "2. 10\n",
       "\n",
       "\n"
      ],
      "text/plain": [
       "[1] 2952999      10"
      ]
     },
     "metadata": {},
     "output_type": "display_data"
    },
    {
     "data": {
      "text/html": [
       "<style>\n",
       ".list-inline {list-style: none; margin:0; padding: 0}\n",
       ".list-inline>li {display: inline-block}\n",
       ".list-inline>li:not(:last-child)::after {content: \"\\00b7\"; padding: 0 .5ex}\n",
       "</style>\n",
       "<ol class=list-inline><li>2891026</li><li>10</li></ol>\n"
      ],
      "text/latex": [
       "\\begin{enumerate*}\n",
       "\\item 2891026\n",
       "\\item 10\n",
       "\\end{enumerate*}\n"
      ],
      "text/markdown": [
       "1. 2891026\n",
       "2. 10\n",
       "\n",
       "\n"
      ],
      "text/plain": [
       "[1] 2891026      10"
      ]
     },
     "metadata": {},
     "output_type": "display_data"
    }
   ],
   "source": [
    "#le o arquivo bp exames - com nomes processados\n",
    "exames <- read.csv(\"HSL_Exames_4_nomesproc.csv\")\n",
    "\n",
    "#dimensões\n",
    "exames %>% dim\n",
    "\n",
    "#verifica se tem linhas repetidas\n",
    "exames %>% unique %>% dim\n",
    "\n",
    "#remove as linhas repetidas\n",
    "exames %>% unique -> exames\n",
    "\n",
    "#número de pacientes (ids) nesse arquivo\n",
    "exames %>% select(id) %>% unique %>% dim"
   ]
  },
  {
   "cell_type": "code",
   "execution_count": 2,
   "metadata": {
    "colab": {
     "base_uri": "https://localhost:8080/",
     "height": 52
    },
    "id": "IM4SIgUVCiQj",
    "outputId": "8308c4e7-2dd2-4269-c6a2-4ba8d368b8a4"
   },
   "outputs": [
    {
     "data": {
      "text/html": [
       "<style>\n",
       ".list-inline {list-style: none; margin:0; padding: 0}\n",
       ".list-inline>li {display: inline-block}\n",
       ".list-inline>li:not(:last-child)::after {content: \"\\00b7\"; padding: 0 .5ex}\n",
       "</style>\n",
       "<ol class=list-inline><li>89937</li><li>8</li></ol>\n"
      ],
      "text/latex": [
       "\\begin{enumerate*}\n",
       "\\item 89937\n",
       "\\item 8\n",
       "\\end{enumerate*}\n"
      ],
      "text/markdown": [
       "1. 89937\n",
       "2. 8\n",
       "\n",
       "\n"
      ],
      "text/plain": [
       "[1] 89937     8"
      ]
     },
     "metadata": {},
     "output_type": "display_data"
    },
    {
     "data": {
      "text/html": [
       "<style>\n",
       ".list-inline {list-style: none; margin:0; padding: 0}\n",
       ".list-inline>li {display: inline-block}\n",
       ".list-inline>li:not(:last-child)::after {content: \"\\00b7\"; padding: 0 .5ex}\n",
       "</style>\n",
       "<ol class=list-inline><li>89937</li><li>8</li></ol>\n"
      ],
      "text/latex": [
       "\\begin{enumerate*}\n",
       "\\item 89937\n",
       "\\item 8\n",
       "\\end{enumerate*}\n"
      ],
      "text/markdown": [
       "1. 89937\n",
       "2. 8\n",
       "\n",
       "\n"
      ],
      "text/plain": [
       "[1] 89937     8"
      ]
     },
     "metadata": {},
     "output_type": "display_data"
    }
   ],
   "source": [
    "#lê o arquivo desfecho do Sírio\n",
    "desfecho <- read.csv(\"HSL_Desfechos_4.csv\", sep = \"|\") \n",
    "\n",
    "#dimensões\n",
    "desfecho %>% dim\n",
    "\n",
    "#verifica se tem linhas repetidas\n",
    "desfecho %>% unique %>% dim\n"
   ]
  },
  {
   "cell_type": "code",
   "execution_count": 3,
   "metadata": {
    "id": "BqtkasuNJJGm"
   },
   "outputs": [],
   "source": [
    "#renomeia as colunas\n",
    "names(desfecho) <- c('id', 'id.atendimento', 'data.atendimento', 'tipo.atendimento', 'id.clinica', 'descrição', 'data.desfecho','desfecho.paciente')\n",
    "\n",
    "#número de pacientes (ids) nesse arquivo\n",
    "desfecho %>% select(id) %>% unique %>% dim"
   ]
  },
  {
   "cell_type": "code",
   "execution_count": 10,
   "metadata": {
    "id": "b-cQF623HQh-"
   },
   "outputs": [],
   "source": [
    "#passa as coluna data.desfecho e data.atendimento para o formato data\n",
    "desfecho$data.desfecho <- as.Date(desfecho$data.desfecho, format=\"%d/%m/%Y\")\n",
    "desfecho$data.atendimento<- as.Date(desfecho$data.atendimento, format=\"%d/%m/%Y\")\n",
    "\n",
    "#adiciona uma coluna com o número de dias entre entrada e a data do desfecho\n",
    "desfecho %>% mutate(dias.desfecho = (difftime(desfecho$data.desfecho, desfecho$data.atendimento, unit = \"days\"))) -> desfecho\n",
    "desfecho$dias.desfecho <- as.integer(desfecho$dias.desfecho)\n"
   ]
  },
  {
   "cell_type": "code",
   "execution_count": 15,
   "metadata": {
    "colab": {
     "base_uri": "https://localhost:8080/",
     "height": 124
    },
    "id": "y3w8JWz40tKw",
    "outputId": "2986afc6-d792-4b8e-8457-4d55ec63410d"
   },
   "outputs": [
    {
     "name": "stderr",
     "output_type": "stream",
     "text": [
      "Joining, by = \"id\"\n",
      "\n",
      "Joining, by = c(\"id\", \"id.atendimento\")\n",
      "\n",
      "Warning message:\n",
      "“Column `id` joining factors with different levels, coercing to character vector”\n",
      "Warning message:\n",
      "“Column `id.atendimento` joining factors with different levels, coercing to character vector”\n"
     ]
    },
    {
     "data": {
      "text/html": [
       "<style>\n",
       ".list-inline {list-style: none; margin:0; padding: 0}\n",
       ".list-inline>li {display: inline-block}\n",
       ".list-inline>li:not(:last-child)::after {content: \"\\00b7\"; padding: 0 .5ex}\n",
       "</style>\n",
       "<ol class=list-inline><li>14673</li><li>1</li></ol>\n"
      ],
      "text/latex": [
       "\\begin{enumerate*}\n",
       "\\item 14673\n",
       "\\item 1\n",
       "\\end{enumerate*}\n"
      ],
      "text/markdown": [
       "1. 14673\n",
       "2. 1\n",
       "\n",
       "\n"
      ],
      "text/plain": [
       "[1] 14673     1"
      ]
     },
     "metadata": {},
     "output_type": "display_data"
    },
    {
     "data": {
      "text/html": [
       "<style>\n",
       ".list-inline {list-style: none; margin:0; padding: 0}\n",
       ".list-inline>li {display: inline-block}\n",
       ".list-inline>li:not(:last-child)::after {content: \"\\00b7\"; padding: 0 .5ex}\n",
       "</style>\n",
       "<ol class=list-inline><li>2891026</li><li>24</li></ol>\n"
      ],
      "text/latex": [
       "\\begin{enumerate*}\n",
       "\\item 2891026\n",
       "\\item 24\n",
       "\\end{enumerate*}\n"
      ],
      "text/markdown": [
       "1. 2891026\n",
       "2. 24\n",
       "\n",
       "\n"
      ],
      "text/plain": [
       "[1] 2891026      24"
      ]
     },
     "metadata": {},
     "output_type": "display_data"
    }
   ],
   "source": [
    "#faz join dos três arquivos\n",
    "exames %>% left_join(pacientes) -> dados1\n",
    "dados1 %>% left_join(desfecho) -> dados\n",
    "\n",
    "#verifica quantos pacientes (ids) estão presentes\n",
    "dados %>% select(id) %>% unique %>% dim\n",
    "\n",
    "#dimensões do arquivo (uma linha por exame)\n",
    "dados %>% dim"
   ]
  },
  {
   "cell_type": "code",
   "execution_count": 16,
   "metadata": {
    "colab": {
     "base_uri": "https://localhost:8080/",
     "height": 71
    },
    "id": "qdIhiy5UCFqB",
    "outputId": "527f10f6-363e-4b93-df06-c60316f1eba8"
   },
   "outputs": [
    {
     "data": {
      "text/html": [
       "<style>\n",
       ".list-inline {list-style: none; margin:0; padding: 0}\n",
       ".list-inline>li {display: inline-block}\n",
       ".list-inline>li:not(:last-child)::after {content: \"\\00b7\"; padding: 0 .5ex}\n",
       "</style>\n",
       "<ol class=list-inline><li>2891026</li><li>26</li></ol>\n"
      ],
      "text/latex": [
       "\\begin{enumerate*}\n",
       "\\item 2891026\n",
       "\\item 26\n",
       "\\end{enumerate*}\n"
      ],
      "text/markdown": [
       "1. 2891026\n",
       "2. 26\n",
       "\n",
       "\n"
      ],
      "text/plain": [
       "[1] 2891026      26"
      ]
     },
     "metadata": {},
     "output_type": "display_data"
    }
   ],
   "source": [
    "#passa as colunas data.exame e data.atendimento para o formato data\n",
    "dados$data.exame <- as.Date(dados$data.exame, format=\"%d/%m/%Y\")\n",
    "dados$data.atendimento<- as.Date(dados$data.atendimento, format=\"%d/%m/%Y\")\n",
    "\n",
    "#acrescenta a coluna dias exame (depois de quantos dias após a entrada fez o exame)\n",
    "dados %>% mutate(dias.exame = (difftime( dados$data.exame, dados$data.atendimento,  unit = \"days\"))) -> dados\n",
    "dados$dias.exame <- as.integer(dados$dias.exame)\n",
    "\n",
    "#resultado \n",
    "dados %>% dim\n",
    "dados -> exames"
   ]
  },
  {
   "cell_type": "code",
   "execution_count": 18,
   "metadata": {
    "colab": {
     "base_uri": "https://localhost:8080/",
     "height": 475
    },
    "id": "hKIKotD6QI4s",
    "outputId": "76d1c88e-01d3-4970-ff91-4189d49cafad"
   },
   "outputs": [
    {
     "data": {
      "text/html": [
       "<table class=\"dataframe\">\n",
       "<caption>A tibble: 21 × 2</caption>\n",
       "<thead>\n",
       "\t<tr><th scope=col>exame</th><th scope=col>n</th></tr>\n",
       "\t<tr><th scope=col>&lt;fct&gt;</th><th scope=col>&lt;int&gt;</th></tr>\n",
       "</thead>\n",
       "<tbody>\n",
       "\t<tr><td>adenovírus pcr quantitativo                                           </td><td>   10</td></tr>\n",
       "\t<tr><td>bcrabl tipo p210 quant pcr tempo real vários mat monitoramento deo lmc</td><td>   13</td></tr>\n",
       "\t<tr><td>chlamydia pesqdna reação por pcr                                      </td><td>   69</td></tr>\n",
       "\t<tr><td>citomegalovírus cmv pcr quantidade viral                              </td><td>  622</td></tr>\n",
       "\t<tr><td>citomegalovírus detecção qualitativa por pcr                          </td><td>   32</td></tr>\n",
       "\t<tr><td>clostridium difficile pesquisa do dna fezes pcr em tempo real         </td><td>  539</td></tr>\n",
       "\t<tr><td>covid19pcr para sarscov2 fleury                                       </td><td>16194</td></tr>\n",
       "\t<tr><td>detecção de coronavírus ncov2019 por pcr anatomia patológica          </td><td>10612</td></tr>\n",
       "\t<tr><td>detecção de vírus respiratório por pcr                                </td><td> 2203</td></tr>\n",
       "\t<tr><td>dna fetal detecção por pcr                                            </td><td>    2</td></tr>\n",
       "\t<tr><td>epstein baar ebv pcr quantitativo                                     </td><td>   96</td></tr>\n",
       "\t<tr><td>hepatb hbvquantitativo carga viral em tempo real pcr                  </td><td>  131</td></tr>\n",
       "\t<tr><td>hepatc hcvquantitativo carga viral em tempo real pcr                  </td><td>   25</td></tr>\n",
       "\t<tr><td>herpes simpvirushsvvhspcr                                             </td><td>  309</td></tr>\n",
       "\t<tr><td>hiv1 quant carga viral pcr                                            </td><td>   63</td></tr>\n",
       "\t<tr><td>mutação v617f no gene jak2 detecção por pcr                           </td><td>    6</td></tr>\n",
       "\t<tr><td>neisseria gonorrh gonococo det dna pcr                                </td><td>   23</td></tr>\n",
       "\t<tr><td>pcr convencional p mycobacterium tuberculosis                         </td><td>   58</td></tr>\n",
       "\t<tr><td>pcr quantitativo para hhv6                                            </td><td>    6</td></tr>\n",
       "\t<tr><td>toxoplasmose pcr                                                      </td><td>   17</td></tr>\n",
       "\t<tr><td>zika vírus detecção do rna por pcr em tempo real                      </td><td>    4</td></tr>\n",
       "</tbody>\n",
       "</table>\n"
      ],
      "text/latex": [
       "A tibble: 21 × 2\n",
       "\\begin{tabular}{ll}\n",
       " exame & n\\\\\n",
       " <fct> & <int>\\\\\n",
       "\\hline\n",
       "\t adenovírus pcr quantitativo                                            &    10\\\\\n",
       "\t bcrabl tipo p210 quant pcr tempo real vários mat monitoramento deo lmc &    13\\\\\n",
       "\t chlamydia pesqdna reação por pcr                                       &    69\\\\\n",
       "\t citomegalovírus cmv pcr quantidade viral                               &   622\\\\\n",
       "\t citomegalovírus detecção qualitativa por pcr                           &    32\\\\\n",
       "\t clostridium difficile pesquisa do dna fezes pcr em tempo real          &   539\\\\\n",
       "\t covid19pcr para sarscov2 fleury                                        & 16194\\\\\n",
       "\t detecção de coronavírus ncov2019 por pcr anatomia patológica           & 10612\\\\\n",
       "\t detecção de vírus respiratório por pcr                                 &  2203\\\\\n",
       "\t dna fetal detecção por pcr                                             &     2\\\\\n",
       "\t epstein baar ebv pcr quantitativo                                      &    96\\\\\n",
       "\t hepatb hbvquantitativo carga viral em tempo real pcr                   &   131\\\\\n",
       "\t hepatc hcvquantitativo carga viral em tempo real pcr                   &    25\\\\\n",
       "\t herpes simpvirushsvvhspcr                                              &   309\\\\\n",
       "\t hiv1 quant carga viral pcr                                             &    63\\\\\n",
       "\t mutação v617f no gene jak2 detecção por pcr                            &     6\\\\\n",
       "\t neisseria gonorrh gonococo det dna pcr                                 &    23\\\\\n",
       "\t pcr convencional p mycobacterium tuberculosis                          &    58\\\\\n",
       "\t pcr quantitativo para hhv6                                             &     6\\\\\n",
       "\t toxoplasmose pcr                                                       &    17\\\\\n",
       "\t zika vírus detecção do rna por pcr em tempo real                       &     4\\\\\n",
       "\\end{tabular}\n"
      ],
      "text/markdown": [
       "\n",
       "A tibble: 21 × 2\n",
       "\n",
       "| exame &lt;fct&gt; | n &lt;int&gt; |\n",
       "|---|---|\n",
       "| adenovírus pcr quantitativo                                            |    10 |\n",
       "| bcrabl tipo p210 quant pcr tempo real vários mat monitoramento deo lmc |    13 |\n",
       "| chlamydia pesqdna reação por pcr                                       |    69 |\n",
       "| citomegalovírus cmv pcr quantidade viral                               |   622 |\n",
       "| citomegalovírus detecção qualitativa por pcr                           |    32 |\n",
       "| clostridium difficile pesquisa do dna fezes pcr em tempo real          |   539 |\n",
       "| covid19pcr para sarscov2 fleury                                        | 16194 |\n",
       "| detecção de coronavírus ncov2019 por pcr anatomia patológica           | 10612 |\n",
       "| detecção de vírus respiratório por pcr                                 |  2203 |\n",
       "| dna fetal detecção por pcr                                             |     2 |\n",
       "| epstein baar ebv pcr quantitativo                                      |    96 |\n",
       "| hepatb hbvquantitativo carga viral em tempo real pcr                   |   131 |\n",
       "| hepatc hcvquantitativo carga viral em tempo real pcr                   |    25 |\n",
       "| herpes simpvirushsvvhspcr                                              |   309 |\n",
       "| hiv1 quant carga viral pcr                                             |    63 |\n",
       "| mutação v617f no gene jak2 detecção por pcr                            |     6 |\n",
       "| neisseria gonorrh gonococo det dna pcr                                 |    23 |\n",
       "| pcr convencional p mycobacterium tuberculosis                          |    58 |\n",
       "| pcr quantitativo para hhv6                                             |     6 |\n",
       "| toxoplasmose pcr                                                       |    17 |\n",
       "| zika vírus detecção do rna por pcr em tempo real                       |     4 |\n",
       "\n"
      ],
      "text/plain": [
       "   exame                                                                  n    \n",
       "1  adenovírus pcr quantitativo                                               10\n",
       "2  bcrabl tipo p210 quant pcr tempo real vários mat monitoramento deo lmc    13\n",
       "3  chlamydia pesqdna reação por pcr                                          69\n",
       "4  citomegalovírus cmv pcr quantidade viral                                 622\n",
       "5  citomegalovírus detecção qualitativa por pcr                              32\n",
       "6  clostridium difficile pesquisa do dna fezes pcr em tempo real            539\n",
       "7  covid19pcr para sarscov2 fleury                                        16194\n",
       "8  detecção de coronavírus ncov2019 por pcr anatomia patológica           10612\n",
       "9  detecção de vírus respiratório por pcr                                  2203\n",
       "10 dna fetal detecção por pcr                                                 2\n",
       "11 epstein baar ebv pcr quantitativo                                         96\n",
       "12 hepatb hbvquantitativo carga viral em tempo real pcr                     131\n",
       "13 hepatc hcvquantitativo carga viral em tempo real pcr                      25\n",
       "14 herpes simpvirushsvvhspcr                                                309\n",
       "15 hiv1 quant carga viral pcr                                                63\n",
       "16 mutação v617f no gene jak2 detecção por pcr                                6\n",
       "17 neisseria gonorrh gonococo det dna pcr                                    23\n",
       "18 pcr convencional p mycobacterium tuberculosis                             58\n",
       "19 pcr quantitativo para hhv6                                                 6\n",
       "20 toxoplasmose pcr                                                          17\n",
       "21 zika vírus detecção do rna por pcr em tempo real                           4"
      ]
     },
     "metadata": {},
     "output_type": "display_data"
    }
   ],
   "source": [
    "#filtra PCR na coluna exame\n",
    "exames %>% filter (str_detect(exame, \"pcr\")) %>% count(exame)"
   ]
  },
  {
   "cell_type": "code",
   "execution_count": 19,
   "metadata": {
    "colab": {
     "base_uri": "https://localhost:8080/",
     "height": 1000
    },
    "id": "z9_FxmPjKJ2U",
    "outputId": "391bb1d1-cd27-4e64-aa7f-5840937aa364"
   },
   "outputs": [
    {
     "data": {
      "text/html": [
       "<table class=\"dataframe\">\n",
       "<caption>A tibble: 58 × 2</caption>\n",
       "<thead>\n",
       "\t<tr><th scope=col>analito</th><th scope=col>n</th></tr>\n",
       "\t<tr><th scope=col>&lt;fct&gt;</th><th scope=col>&lt;int&gt;</th></tr>\n",
       "</thead>\n",
       "<tbody>\n",
       "\t<tr><td>adenovirus determinação quantitativa dna                    </td><td>   10</td></tr>\n",
       "\t<tr><td>baar após homog nalcnaoh pesquisa                           </td><td>    1</td></tr>\n",
       "\t<tr><td>baar exame direto pesquisa                                  </td><td>    1</td></tr>\n",
       "\t<tr><td>baar material                                               </td><td>    1</td></tr>\n",
       "\t<tr><td>bcrabl quantific                                            </td><td>    2</td></tr>\n",
       "\t<tr><td>bcrabl1p210 resposta molecular                              </td><td>    2</td></tr>\n",
       "\t<tr><td>bcrabl1p210 transcritos controle endógeno                   </td><td>    7</td></tr>\n",
       "\t<tr><td>clam trachomatis pcr                                        </td><td>   69</td></tr>\n",
       "\t<tr><td>clostridium difficile deleção no gene tcdc                  </td><td>   52</td></tr>\n",
       "\t<tr><td>clostridium difficile toxigênico dna                        </td><td>  487</td></tr>\n",
       "\t<tr><td>cmv detecção                                                </td><td>   28</td></tr>\n",
       "\t<tr><td>cmv quantificação                                           </td><td>  622</td></tr>\n",
       "\t<tr><td>coronavírus 2019ncov                                        </td><td> 8200</td></tr>\n",
       "\t<tr><td>covid 19 cultura                                            </td><td>    4</td></tr>\n",
       "\t<tr><td>cultura                                                     </td><td>   35</td></tr>\n",
       "\t<tr><td>detecção de coronavírus ncov2019 por pcr anatomia patológica</td><td>10612</td></tr>\n",
       "\t<tr><td>dna fetal                                                   </td><td>    1</td></tr>\n",
       "\t<tr><td>dna fetal conclusão                                         </td><td>    1</td></tr>\n",
       "\t<tr><td>epsteinbarr quant                                           </td><td>   76</td></tr>\n",
       "\t<tr><td>hbv uiml                                                    </td><td>  131</td></tr>\n",
       "\t<tr><td>hcv quantificação                                           </td><td>   23</td></tr>\n",
       "\t<tr><td>hiv1 log                                                    </td><td>    9</td></tr>\n",
       "\t<tr><td>hiv1 quantificação                                          </td><td>   45</td></tr>\n",
       "\t<tr><td>hiv1 uiml                                                   </td><td>    9</td></tr>\n",
       "\t<tr><td>hsv1 detecção                                               </td><td>  152</td></tr>\n",
       "\t<tr><td>hsv2 detecção                                               </td><td>  152</td></tr>\n",
       "\t<tr><td>log rna                                                     </td><td>    2</td></tr>\n",
       "\t<tr><td>material 2019ncov                                           </td><td> 7990</td></tr>\n",
       "\t<tr><td>mycobacterium tuberculosis pcr                              </td><td>   55</td></tr>\n",
       "\t<tr><td>neisseria gonorrhoeae pcr                                   </td><td>   23</td></tr>\n",
       "\t<tr><td>relação bcrabl1p210 controle endógeno                       </td><td>    2</td></tr>\n",
       "\t<tr><td>toxoplasma gondii dna                                       </td><td>   17</td></tr>\n",
       "\t<tr><td>vírus herpes6 hhv6                                          </td><td>    6</td></tr>\n",
       "\t<tr><td>vírus respiratórios detecção molecular                      </td><td>  201</td></tr>\n",
       "\t<tr><td>virusmol adenovírus                                         </td><td>   91</td></tr>\n",
       "\t<tr><td>virusmol bordetella parapertussis                           </td><td>   91</td></tr>\n",
       "\t<tr><td>virusmol bordetella pertussis                               </td><td>   91</td></tr>\n",
       "\t<tr><td>virusmol chlamydophila pneumoniae                           </td><td>   91</td></tr>\n",
       "\t<tr><td>virusmol coronavírus 229e                                   </td><td>   91</td></tr>\n",
       "\t<tr><td>virusmol coronavírus hku1                                   </td><td>   91</td></tr>\n",
       "\t<tr><td>virusmol coronavírus nl63                                   </td><td>   91</td></tr>\n",
       "\t<tr><td>virusmol coronavírus oc43                                   </td><td>   91</td></tr>\n",
       "\t<tr><td>virusmol influenza a                                        </td><td>   91</td></tr>\n",
       "\t<tr><td>virusmol influenza ah1                                      </td><td>   91</td></tr>\n",
       "\t<tr><td>virusmol influenza ah12009                                  </td><td>   91</td></tr>\n",
       "\t<tr><td>virusmol influenza ah3                                      </td><td>   91</td></tr>\n",
       "\t<tr><td>virusmol influenza b                                        </td><td>   91</td></tr>\n",
       "\t<tr><td>virusmol material                                           </td><td>   91</td></tr>\n",
       "\t<tr><td>virusmol metapneumovírus humano                             </td><td>   91</td></tr>\n",
       "\t<tr><td>virusmol mycoplasma pneumoniae                              </td><td>   59</td></tr>\n",
       "\t<tr><td>virusmol parainfluenza 1                                    </td><td>   91</td></tr>\n",
       "\t<tr><td>virusmol parainfluenza 2                                    </td><td>   91</td></tr>\n",
       "\t<tr><td>virusmol parainfluenza 3                                    </td><td>   91</td></tr>\n",
       "\t<tr><td>virusmol parainfluenza 4                                    </td><td>   91</td></tr>\n",
       "\t<tr><td>virusmol rinovírusenterovírus                               </td><td>   91</td></tr>\n",
       "\t<tr><td>virusmol sarscov2                                           </td><td>   32</td></tr>\n",
       "\t<tr><td>virusmol vírus sincicial respiratório                       </td><td>   91</td></tr>\n",
       "\t<tr><td>zika vírus detecção no rna                                  </td><td>    4</td></tr>\n",
       "</tbody>\n",
       "</table>\n"
      ],
      "text/latex": [
       "A tibble: 58 × 2\n",
       "\\begin{tabular}{ll}\n",
       " analito & n\\\\\n",
       " <fct> & <int>\\\\\n",
       "\\hline\n",
       "\t adenovirus determinação quantitativa dna                     &    10\\\\\n",
       "\t baar após homog nalcnaoh pesquisa                            &     1\\\\\n",
       "\t baar exame direto pesquisa                                   &     1\\\\\n",
       "\t baar material                                                &     1\\\\\n",
       "\t bcrabl quantific                                             &     2\\\\\n",
       "\t bcrabl1p210 resposta molecular                               &     2\\\\\n",
       "\t bcrabl1p210 transcritos controle endógeno                    &     7\\\\\n",
       "\t clam trachomatis pcr                                         &    69\\\\\n",
       "\t clostridium difficile deleção no gene tcdc                   &    52\\\\\n",
       "\t clostridium difficile toxigênico dna                         &   487\\\\\n",
       "\t cmv detecção                                                 &    28\\\\\n",
       "\t cmv quantificação                                            &   622\\\\\n",
       "\t coronavírus 2019ncov                                         &  8200\\\\\n",
       "\t covid 19 cultura                                             &     4\\\\\n",
       "\t cultura                                                      &    35\\\\\n",
       "\t detecção de coronavírus ncov2019 por pcr anatomia patológica & 10612\\\\\n",
       "\t dna fetal                                                    &     1\\\\\n",
       "\t dna fetal conclusão                                          &     1\\\\\n",
       "\t epsteinbarr quant                                            &    76\\\\\n",
       "\t hbv uiml                                                     &   131\\\\\n",
       "\t hcv quantificação                                            &    23\\\\\n",
       "\t hiv1 log                                                     &     9\\\\\n",
       "\t hiv1 quantificação                                           &    45\\\\\n",
       "\t hiv1 uiml                                                    &     9\\\\\n",
       "\t hsv1 detecção                                                &   152\\\\\n",
       "\t hsv2 detecção                                                &   152\\\\\n",
       "\t log rna                                                      &     2\\\\\n",
       "\t material 2019ncov                                            &  7990\\\\\n",
       "\t mycobacterium tuberculosis pcr                               &    55\\\\\n",
       "\t neisseria gonorrhoeae pcr                                    &    23\\\\\n",
       "\t relação bcrabl1p210 controle endógeno                        &     2\\\\\n",
       "\t toxoplasma gondii dna                                        &    17\\\\\n",
       "\t vírus herpes6 hhv6                                           &     6\\\\\n",
       "\t vírus respiratórios detecção molecular                       &   201\\\\\n",
       "\t virusmol adenovírus                                          &    91\\\\\n",
       "\t virusmol bordetella parapertussis                            &    91\\\\\n",
       "\t virusmol bordetella pertussis                                &    91\\\\\n",
       "\t virusmol chlamydophila pneumoniae                            &    91\\\\\n",
       "\t virusmol coronavírus 229e                                    &    91\\\\\n",
       "\t virusmol coronavírus hku1                                    &    91\\\\\n",
       "\t virusmol coronavírus nl63                                    &    91\\\\\n",
       "\t virusmol coronavírus oc43                                    &    91\\\\\n",
       "\t virusmol influenza a                                         &    91\\\\\n",
       "\t virusmol influenza ah1                                       &    91\\\\\n",
       "\t virusmol influenza ah12009                                   &    91\\\\\n",
       "\t virusmol influenza ah3                                       &    91\\\\\n",
       "\t virusmol influenza b                                         &    91\\\\\n",
       "\t virusmol material                                            &    91\\\\\n",
       "\t virusmol metapneumovírus humano                              &    91\\\\\n",
       "\t virusmol mycoplasma pneumoniae                               &    59\\\\\n",
       "\t virusmol parainfluenza 1                                     &    91\\\\\n",
       "\t virusmol parainfluenza 2                                     &    91\\\\\n",
       "\t virusmol parainfluenza 3                                     &    91\\\\\n",
       "\t virusmol parainfluenza 4                                     &    91\\\\\n",
       "\t virusmol rinovírusenterovírus                                &    91\\\\\n",
       "\t virusmol sarscov2                                            &    32\\\\\n",
       "\t virusmol vírus sincicial respiratório                        &    91\\\\\n",
       "\t zika vírus detecção no rna                                   &     4\\\\\n",
       "\\end{tabular}\n"
      ],
      "text/markdown": [
       "\n",
       "A tibble: 58 × 2\n",
       "\n",
       "| analito &lt;fct&gt; | n &lt;int&gt; |\n",
       "|---|---|\n",
       "| adenovirus determinação quantitativa dna                     |    10 |\n",
       "| baar após homog nalcnaoh pesquisa                            |     1 |\n",
       "| baar exame direto pesquisa                                   |     1 |\n",
       "| baar material                                                |     1 |\n",
       "| bcrabl quantific                                             |     2 |\n",
       "| bcrabl1p210 resposta molecular                               |     2 |\n",
       "| bcrabl1p210 transcritos controle endógeno                    |     7 |\n",
       "| clam trachomatis pcr                                         |    69 |\n",
       "| clostridium difficile deleção no gene tcdc                   |    52 |\n",
       "| clostridium difficile toxigênico dna                         |   487 |\n",
       "| cmv detecção                                                 |    28 |\n",
       "| cmv quantificação                                            |   622 |\n",
       "| coronavírus 2019ncov                                         |  8200 |\n",
       "| covid 19 cultura                                             |     4 |\n",
       "| cultura                                                      |    35 |\n",
       "| detecção de coronavírus ncov2019 por pcr anatomia patológica | 10612 |\n",
       "| dna fetal                                                    |     1 |\n",
       "| dna fetal conclusão                                          |     1 |\n",
       "| epsteinbarr quant                                            |    76 |\n",
       "| hbv uiml                                                     |   131 |\n",
       "| hcv quantificação                                            |    23 |\n",
       "| hiv1 log                                                     |     9 |\n",
       "| hiv1 quantificação                                           |    45 |\n",
       "| hiv1 uiml                                                    |     9 |\n",
       "| hsv1 detecção                                                |   152 |\n",
       "| hsv2 detecção                                                |   152 |\n",
       "| log rna                                                      |     2 |\n",
       "| material 2019ncov                                            |  7990 |\n",
       "| mycobacterium tuberculosis pcr                               |    55 |\n",
       "| neisseria gonorrhoeae pcr                                    |    23 |\n",
       "| relação bcrabl1p210 controle endógeno                        |     2 |\n",
       "| toxoplasma gondii dna                                        |    17 |\n",
       "| vírus herpes6 hhv6                                           |     6 |\n",
       "| vírus respiratórios detecção molecular                       |   201 |\n",
       "| virusmol adenovírus                                          |    91 |\n",
       "| virusmol bordetella parapertussis                            |    91 |\n",
       "| virusmol bordetella pertussis                                |    91 |\n",
       "| virusmol chlamydophila pneumoniae                            |    91 |\n",
       "| virusmol coronavírus 229e                                    |    91 |\n",
       "| virusmol coronavírus hku1                                    |    91 |\n",
       "| virusmol coronavírus nl63                                    |    91 |\n",
       "| virusmol coronavírus oc43                                    |    91 |\n",
       "| virusmol influenza a                                         |    91 |\n",
       "| virusmol influenza ah1                                       |    91 |\n",
       "| virusmol influenza ah12009                                   |    91 |\n",
       "| virusmol influenza ah3                                       |    91 |\n",
       "| virusmol influenza b                                         |    91 |\n",
       "| virusmol material                                            |    91 |\n",
       "| virusmol metapneumovírus humano                              |    91 |\n",
       "| virusmol mycoplasma pneumoniae                               |    59 |\n",
       "| virusmol parainfluenza 1                                     |    91 |\n",
       "| virusmol parainfluenza 2                                     |    91 |\n",
       "| virusmol parainfluenza 3                                     |    91 |\n",
       "| virusmol parainfluenza 4                                     |    91 |\n",
       "| virusmol rinovírusenterovírus                                |    91 |\n",
       "| virusmol sarscov2                                            |    32 |\n",
       "| virusmol vírus sincicial respiratório                        |    91 |\n",
       "| zika vírus detecção no rna                                   |     4 |\n",
       "\n"
      ],
      "text/plain": [
       "   analito                                                      n    \n",
       "1  adenovirus determinação quantitativa dna                        10\n",
       "2  baar após homog nalcnaoh pesquisa                                1\n",
       "3  baar exame direto pesquisa                                       1\n",
       "4  baar material                                                    1\n",
       "5  bcrabl quantific                                                 2\n",
       "6  bcrabl1p210 resposta molecular                                   2\n",
       "7  bcrabl1p210 transcritos controle endógeno                        7\n",
       "8  clam trachomatis pcr                                            69\n",
       "9  clostridium difficile deleção no gene tcdc                      52\n",
       "10 clostridium difficile toxigênico dna                           487\n",
       "11 cmv detecção                                                    28\n",
       "12 cmv quantificação                                              622\n",
       "13 coronavírus 2019ncov                                          8200\n",
       "14 covid 19 cultura                                                 4\n",
       "15 cultura                                                         35\n",
       "16 detecção de coronavírus ncov2019 por pcr anatomia patológica 10612\n",
       "17 dna fetal                                                        1\n",
       "18 dna fetal conclusão                                              1\n",
       "19 epsteinbarr quant                                               76\n",
       "20 hbv uiml                                                       131\n",
       "21 hcv quantificação                                               23\n",
       "22 hiv1 log                                                         9\n",
       "23 hiv1 quantificação                                              45\n",
       "24 hiv1 uiml                                                        9\n",
       "25 hsv1 detecção                                                  152\n",
       "26 hsv2 detecção                                                  152\n",
       "27 log rna                                                          2\n",
       "28 material 2019ncov                                             7990\n",
       "29 mycobacterium tuberculosis pcr                                  55\n",
       "30 neisseria gonorrhoeae pcr                                       23\n",
       "31 relação bcrabl1p210 controle endógeno                            2\n",
       "32 toxoplasma gondii dna                                           17\n",
       "33 vírus herpes6 hhv6                                               6\n",
       "34 vírus respiratórios detecção molecular                         201\n",
       "35 virusmol adenovírus                                             91\n",
       "36 virusmol bordetella parapertussis                               91\n",
       "37 virusmol bordetella pertussis                                   91\n",
       "38 virusmol chlamydophila pneumoniae                               91\n",
       "39 virusmol coronavírus 229e                                       91\n",
       "40 virusmol coronavírus hku1                                       91\n",
       "41 virusmol coronavírus nl63                                       91\n",
       "42 virusmol coronavírus oc43                                       91\n",
       "43 virusmol influenza a                                            91\n",
       "44 virusmol influenza ah1                                          91\n",
       "45 virusmol influenza ah12009                                      91\n",
       "46 virusmol influenza ah3                                          91\n",
       "47 virusmol influenza b                                            91\n",
       "48 virusmol material                                               91\n",
       "49 virusmol metapneumovírus humano                                 91\n",
       "50 virusmol mycoplasma pneumoniae                                  59\n",
       "51 virusmol parainfluenza 1                                        91\n",
       "52 virusmol parainfluenza 2                                        91\n",
       "53 virusmol parainfluenza 3                                        91\n",
       "54 virusmol parainfluenza 4                                        91\n",
       "55 virusmol rinovírusenterovírus                                   91\n",
       "56 virusmol sarscov2                                               32\n",
       "57 virusmol vírus sincicial respiratório                           91\n",
       "58 zika vírus detecção no rna                                       4"
      ]
     },
     "metadata": {},
     "output_type": "display_data"
    }
   ],
   "source": [
    "#filtra PCR na coluna exame\n",
    "exames %>% filter (str_detect(exame, \"pcr\")) -> exame_pcr\n",
    "\n",
    "#verifica quais os analitos estão presentes nesses exames\n",
    "exame_pcr %>% count(analito)"
   ]
  },
  {
   "cell_type": "code",
   "execution_count": 20,
   "metadata": {
    "colab": {
     "base_uri": "https://localhost:8080/",
     "height": 287
    },
    "id": "bM9Z2zPCODa-",
    "outputId": "25ec923d-6666-4fef-fbbc-5e3e30960029"
   },
   "outputs": [
    {
     "data": {
      "text/html": [
       "<table class=\"dataframe\">\n",
       "<caption>A tibble: 6 × 2</caption>\n",
       "<thead>\n",
       "\t<tr><th scope=col>analito</th><th scope=col>n</th></tr>\n",
       "\t<tr><th scope=col>&lt;fct&gt;</th><th scope=col>&lt;int&gt;</th></tr>\n",
       "</thead>\n",
       "<tbody>\n",
       "\t<tr><td>coronavírus 2019ncov                                        </td><td> 8200</td></tr>\n",
       "\t<tr><td>detecção de coronavírus ncov2019 por pcr anatomia patológica</td><td>10612</td></tr>\n",
       "\t<tr><td>virusmol coronavírus 229e                                   </td><td>   91</td></tr>\n",
       "\t<tr><td>virusmol coronavírus hku1                                   </td><td>   91</td></tr>\n",
       "\t<tr><td>virusmol coronavírus nl63                                   </td><td>   91</td></tr>\n",
       "\t<tr><td>virusmol coronavírus oc43                                   </td><td>   91</td></tr>\n",
       "</tbody>\n",
       "</table>\n"
      ],
      "text/latex": [
       "A tibble: 6 × 2\n",
       "\\begin{tabular}{ll}\n",
       " analito & n\\\\\n",
       " <fct> & <int>\\\\\n",
       "\\hline\n",
       "\t coronavírus 2019ncov                                         &  8200\\\\\n",
       "\t detecção de coronavírus ncov2019 por pcr anatomia patológica & 10612\\\\\n",
       "\t virusmol coronavírus 229e                                    &    91\\\\\n",
       "\t virusmol coronavírus hku1                                    &    91\\\\\n",
       "\t virusmol coronavírus nl63                                    &    91\\\\\n",
       "\t virusmol coronavírus oc43                                    &    91\\\\\n",
       "\\end{tabular}\n"
      ],
      "text/markdown": [
       "\n",
       "A tibble: 6 × 2\n",
       "\n",
       "| analito &lt;fct&gt; | n &lt;int&gt; |\n",
       "|---|---|\n",
       "| coronavírus 2019ncov                                         |  8200 |\n",
       "| detecção de coronavírus ncov2019 por pcr anatomia patológica | 10612 |\n",
       "| virusmol coronavírus 229e                                    |    91 |\n",
       "| virusmol coronavírus hku1                                    |    91 |\n",
       "| virusmol coronavírus nl63                                    |    91 |\n",
       "| virusmol coronavírus oc43                                    |    91 |\n",
       "\n"
      ],
      "text/plain": [
       "  analito                                                      n    \n",
       "1 coronavírus 2019ncov                                          8200\n",
       "2 detecção de coronavírus ncov2019 por pcr anatomia patológica 10612\n",
       "3 virusmol coronavírus 229e                                       91\n",
       "4 virusmol coronavírus hku1                                       91\n",
       "5 virusmol coronavírus nl63                                       91\n",
       "6 virusmol coronavírus oc43                                       91"
      ]
     },
     "metadata": {},
     "output_type": "display_data"
    }
   ],
   "source": [
    "#filtra os analitos referentes ao covid\n",
    "exame_pcr %>% filter (str_detect(analito, \"coronavírus\"))  %>% count(analito)"
   ]
  },
  {
   "cell_type": "code",
   "execution_count": 21,
   "metadata": {
    "colab": {
     "base_uri": "https://localhost:8080/",
     "height": 161
    },
    "id": "fR8OuU6PKO5f",
    "outputId": "07e184fd-7a43-4801-d248-2bccf9cbc533"
   },
   "outputs": [
    {
     "data": {
      "text/html": [
       "<table class=\"dataframe\">\n",
       "<caption>A tibble: 2 × 2</caption>\n",
       "<thead>\n",
       "\t<tr><th scope=col>analito</th><th scope=col>n</th></tr>\n",
       "\t<tr><th scope=col>&lt;fct&gt;</th><th scope=col>&lt;int&gt;</th></tr>\n",
       "</thead>\n",
       "<tbody>\n",
       "\t<tr><td>coronavírus 2019ncov                                        </td><td> 8200</td></tr>\n",
       "\t<tr><td>detecção de coronavírus ncov2019 por pcr anatomia patológica</td><td>10612</td></tr>\n",
       "</tbody>\n",
       "</table>\n"
      ],
      "text/latex": [
       "A tibble: 2 × 2\n",
       "\\begin{tabular}{ll}\n",
       " analito & n\\\\\n",
       " <fct> & <int>\\\\\n",
       "\\hline\n",
       "\t coronavírus 2019ncov                                         &  8200\\\\\n",
       "\t detecção de coronavírus ncov2019 por pcr anatomia patológica & 10612\\\\\n",
       "\\end{tabular}\n"
      ],
      "text/markdown": [
       "\n",
       "A tibble: 2 × 2\n",
       "\n",
       "| analito &lt;fct&gt; | n &lt;int&gt; |\n",
       "|---|---|\n",
       "| coronavírus 2019ncov                                         |  8200 |\n",
       "| detecção de coronavírus ncov2019 por pcr anatomia patológica | 10612 |\n",
       "\n"
      ],
      "text/plain": [
       "  analito                                                      n    \n",
       "1 coronavírus 2019ncov                                          8200\n",
       "2 detecção de coronavírus ncov2019 por pcr anatomia patológica 10612"
      ]
     },
     "metadata": {},
     "output_type": "display_data"
    }
   ],
   "source": [
    "#filtra os analitos referentes ao covid e salva\n",
    "exame_pcr %>% filter (str_detect(analito, \"coronavírus\"))  -> exames_pcr_covid\n",
    "\n",
    "#filtra os analitos referentes ao covid\n",
    "exames_pcr_covid %>% filter (!(str_detect(analito, \"rusmol\"))) %>% count(analito)"
   ]
  },
  {
   "cell_type": "code",
   "execution_count": 22,
   "metadata": {
    "colab": {
     "base_uri": "https://localhost:8080/",
     "height": 161
    },
    "id": "pQyODdZNKR-V",
    "outputId": "4a7d260c-43d9-4b3a-ce43-52d8b3a4dd55"
   },
   "outputs": [
    {
     "data": {
      "text/html": [
       "<table class=\"dataframe\">\n",
       "<caption>A tibble: 2 × 2</caption>\n",
       "<thead>\n",
       "\t<tr><th scope=col>resultado</th><th scope=col>n</th></tr>\n",
       "\t<tr><th scope=col>&lt;fct&gt;</th><th scope=col>&lt;int&gt;</th></tr>\n",
       "</thead>\n",
       "<tbody>\n",
       "\t<tr><td>DETECTADO           </td><td>12141</td></tr>\n",
       "\t<tr><td>DETECTADO (POSITIVO)</td><td> 3764</td></tr>\n",
       "</tbody>\n",
       "</table>\n"
      ],
      "text/latex": [
       "A tibble: 2 × 2\n",
       "\\begin{tabular}{ll}\n",
       " resultado & n\\\\\n",
       " <fct> & <int>\\\\\n",
       "\\hline\n",
       "\t DETECTADO            & 12141\\\\\n",
       "\t DETECTADO (POSITIVO) &  3764\\\\\n",
       "\\end{tabular}\n"
      ],
      "text/markdown": [
       "\n",
       "A tibble: 2 × 2\n",
       "\n",
       "| resultado &lt;fct&gt; | n &lt;int&gt; |\n",
       "|---|---|\n",
       "| DETECTADO            | 12141 |\n",
       "| DETECTADO (POSITIVO) |  3764 |\n",
       "\n"
      ],
      "text/plain": [
       "  resultado            n    \n",
       "1 DETECTADO            12141\n",
       "2 DETECTADO (POSITIVO)  3764"
      ]
     },
     "metadata": {},
     "output_type": "display_data"
    }
   ],
   "source": [
    "#filtra os analitos referentes ao covid - e salva\n",
    "exames_pcr_covid %>% filter (!(str_detect(analito, \"rusmol\"))) -> exames_pcr_covid \n",
    "\n",
    "#quais os resultados desses analitos\n",
    "exames_pcr_covid %>% count(resultado)\n",
    "\n",
    "#filtra apenas os resultados positivos\n",
    "exames_pcr_covid %>% filter (str_detect(resultado, \"DETECTADO\")) %>% \n",
    "filter (resultado != \"NÃO DETECTADO\" ) %>% \n",
    "filter(resultado != \"NÃO DETECTADO (NEGATIVO)\") %>% count(resultado)"
   ]
  },
  {
   "cell_type": "code",
   "execution_count": 23,
   "metadata": {
    "colab": {
     "base_uri": "https://localhost:8080/",
     "height": 977
    },
    "id": "OuXtjfQ7ROCb",
    "outputId": "330f36f2-7726-40c2-cec9-e8c9383a41e2"
   },
   "outputs": [],
   "source": [
    "#filtra apenas os resultados positivos - e salva\n",
    "exames_pcr_covid %>% filter (str_detect(resultado, \"DETECTADO\")) %>% \n",
    "filter (resultado != \"NÃO DETECTADO\" ) %>% \n",
    "filter(resultado != \"NÃO DETECTADO (NEGATIVO)\") -> exames_pcr_covid_positivo"
   ]
  },
  {
   "cell_type": "code",
   "execution_count": 24,
   "metadata": {
    "colab": {
     "base_uri": "https://localhost:8080/",
     "height": 903
    },
    "id": "pSLRUVnLQeSA",
    "outputId": "2477f92a-b1ad-4ee3-ec06-b76a50dee8e9"
   },
   "outputs": [
    {
     "data": {
      "text/html": [
       "<table class=\"dataframe\">\n",
       "<caption>A tibble: 18 × 2</caption>\n",
       "<thead>\n",
       "\t<tr><th scope=col>dias.exame</th><th scope=col>n</th></tr>\n",
       "\t<tr><th scope=col>&lt;dbl&gt;</th><th scope=col>&lt;int&gt;</th></tr>\n",
       "</thead>\n",
       "<tbody>\n",
       "\t<tr><td>-3</td><td>    1</td></tr>\n",
       "\t<tr><td>-1</td><td>    5</td></tr>\n",
       "\t<tr><td> 0</td><td>14694</td></tr>\n",
       "\t<tr><td> 1</td><td>  301</td></tr>\n",
       "\t<tr><td> 2</td><td>   61</td></tr>\n",
       "\t<tr><td> 3</td><td>   47</td></tr>\n",
       "\t<tr><td> 4</td><td>   37</td></tr>\n",
       "\t<tr><td> 5</td><td>   40</td></tr>\n",
       "\t<tr><td> 6</td><td>   32</td></tr>\n",
       "\t<tr><td> 7</td><td>   26</td></tr>\n",
       "\t<tr><td> 8</td><td>   26</td></tr>\n",
       "\t<tr><td> 9</td><td>   24</td></tr>\n",
       "\t<tr><td>10</td><td>   24</td></tr>\n",
       "\t<tr><td>11</td><td>   23</td></tr>\n",
       "\t<tr><td>12</td><td>   19</td></tr>\n",
       "\t<tr><td>13</td><td>   25</td></tr>\n",
       "\t<tr><td>14</td><td>   28</td></tr>\n",
       "\t<tr><td>15</td><td>   23</td></tr>\n",
       "</tbody>\n",
       "</table>\n"
      ],
      "text/latex": [
       "A tibble: 18 × 2\n",
       "\\begin{tabular}{ll}\n",
       " dias.exame & n\\\\\n",
       " <dbl> & <int>\\\\\n",
       "\\hline\n",
       "\t -3 &     1\\\\\n",
       "\t -1 &     5\\\\\n",
       "\t  0 & 14694\\\\\n",
       "\t  1 &   301\\\\\n",
       "\t  2 &    61\\\\\n",
       "\t  3 &    47\\\\\n",
       "\t  4 &    37\\\\\n",
       "\t  5 &    40\\\\\n",
       "\t  6 &    32\\\\\n",
       "\t  7 &    26\\\\\n",
       "\t  8 &    26\\\\\n",
       "\t  9 &    24\\\\\n",
       "\t 10 &    24\\\\\n",
       "\t 11 &    23\\\\\n",
       "\t 12 &    19\\\\\n",
       "\t 13 &    25\\\\\n",
       "\t 14 &    28\\\\\n",
       "\t 15 &    23\\\\\n",
       "\\end{tabular}\n"
      ],
      "text/markdown": [
       "\n",
       "A tibble: 18 × 2\n",
       "\n",
       "| dias.exame &lt;dbl&gt; | n &lt;int&gt; |\n",
       "|---|---|\n",
       "| -3 |     1 |\n",
       "| -1 |     5 |\n",
       "|  0 | 14694 |\n",
       "|  1 |   301 |\n",
       "|  2 |    61 |\n",
       "|  3 |    47 |\n",
       "|  4 |    37 |\n",
       "|  5 |    40 |\n",
       "|  6 |    32 |\n",
       "|  7 |    26 |\n",
       "|  8 |    26 |\n",
       "|  9 |    24 |\n",
       "| 10 |    24 |\n",
       "| 11 |    23 |\n",
       "| 12 |    19 |\n",
       "| 13 |    25 |\n",
       "| 14 |    28 |\n",
       "| 15 |    23 |\n",
       "\n"
      ],
      "text/plain": [
       "   dias.exame n    \n",
       "1  -3             1\n",
       "2  -1             5\n",
       "3   0         14694\n",
       "4   1           301\n",
       "5   2            61\n",
       "6   3            47\n",
       "7   4            37\n",
       "8   5            40\n",
       "9   6            32\n",
       "10  7            26\n",
       "11  8            26\n",
       "12  9            24\n",
       "13 10            24\n",
       "14 11            23\n",
       "15 12            19\n",
       "16 13            25\n",
       "17 14            28\n",
       "18 15            23"
      ]
     },
     "metadata": {},
     "output_type": "display_data"
    },
    {
     "data": {
      "text/html": [
       "<table class=\"dataframe\">\n",
       "<caption>A data.frame: 1 × 1</caption>\n",
       "<thead>\n",
       "\t<tr><th scope=col>n</th></tr>\n",
       "\t<tr><th scope=col>&lt;int&gt;</th></tr>\n",
       "</thead>\n",
       "<tbody>\n",
       "\t<tr><td>15262</td></tr>\n",
       "</tbody>\n",
       "</table>\n"
      ],
      "text/latex": [
       "A data.frame: 1 × 1\n",
       "\\begin{tabular}{l}\n",
       " n\\\\\n",
       " <int>\\\\\n",
       "\\hline\n",
       "\t 15262\\\\\n",
       "\\end{tabular}\n"
      ],
      "text/markdown": [
       "\n",
       "A data.frame: 1 × 1\n",
       "\n",
       "| n &lt;int&gt; |\n",
       "|---|\n",
       "| 15262 |\n",
       "\n"
      ],
      "text/plain": [
       "  n    \n",
       "1 15262"
      ]
     },
     "metadata": {},
     "output_type": "display_data"
    }
   ],
   "source": [
    "#filtra os pacientes que testaram positivo em no máximo 15 dias\n",
    "\n",
    "#transforma a coluna dias.exame em numérica\n",
    "exames_pcr_covid_positivo$dias.exame <- as.numeric(exames_pcr_covid_positivo$dias.exame)\n",
    "\n",
    "#filtra os exames feitos em no máximo 15 dias\n",
    "exames_pcr_covid_positivo %>% filter(dias.exame <16) -> exames_pcr_covid_positivo\n",
    "\n",
    "#verifica se o filtro funcionou como esperado\n",
    "exames_pcr_covid_positivo %>%count(dias.exame)\n",
    "\n",
    "\n",
    "#seleciona os ids.atendimento dos pacientes que testaram positivo em no máximo 15 dias\n",
    "exames_pcr_covid_positivo %>% select(id.atendimento) %>% unique -> id_positivo\n",
    "\n",
    "#número de ids.atendimento que testaram positivo em no máximo 15 dias\n",
    "id_positivo %>% tally\n"
   ]
  },
  {
   "cell_type": "code",
   "execution_count": 25,
   "metadata": {
    "colab": {
     "base_uri": "https://localhost:8080/",
     "height": 34
    },
    "id": "c3atPG8xmEGM",
    "outputId": "9e0520c0-26ad-4137-cf92-95e5bfc536ed"
   },
   "outputs": [
    {
     "data": {
      "text/html": [
       "<style>\n",
       ".list-inline {list-style: none; margin:0; padding: 0}\n",
       ".list-inline>li {display: inline-block}\n",
       ".list-inline>li:not(:last-child)::after {content: \"\\00b7\"; padding: 0 .5ex}\n",
       "</style>\n",
       "<ol class=list-inline><li>1214547</li><li>26</li></ol>\n"
      ],
      "text/latex": [
       "\\begin{enumerate*}\n",
       "\\item 1214547\n",
       "\\item 26\n",
       "\\end{enumerate*}\n"
      ],
      "text/markdown": [
       "1. 1214547\n",
       "2. 26\n",
       "\n",
       "\n"
      ],
      "text/plain": [
       "[1] 1214547      26"
      ]
     },
     "metadata": {},
     "output_type": "display_data"
    }
   ],
   "source": [
    "#uso os ids para filtrar as linhas correspondes nos exames\n",
    "exames %>% filter (id.atendimento %in% id_positivo$id.atendimento) -> exames\n",
    "\n",
    "#dimensão após filtro\n",
    "exames %>% dim\n"
   ]
  },
  {
   "cell_type": "code",
   "execution_count": 26,
   "metadata": {
    "colab": {
     "base_uri": "https://localhost:8080/",
     "height": 52
    },
    "id": "wVudYTrymSuY",
    "outputId": "a02f89d0-34db-4a9a-be66-5ee2a3b5fa43"
   },
   "outputs": [
    {
     "data": {
      "text/html": [
       "<style>\n",
       ".list-inline {list-style: none; margin:0; padding: 0}\n",
       ".list-inline>li {display: inline-block}\n",
       ".list-inline>li:not(:last-child)::after {content: \"\\00b7\"; padding: 0 .5ex}\n",
       "</style>\n",
       "<ol class=list-inline><li>14412</li><li>1</li></ol>\n"
      ],
      "text/latex": [
       "\\begin{enumerate*}\n",
       "\\item 14412\n",
       "\\item 1\n",
       "\\end{enumerate*}\n"
      ],
      "text/markdown": [
       "1. 14412\n",
       "2. 1\n",
       "\n",
       "\n"
      ],
      "text/plain": [
       "[1] 14412     1"
      ]
     },
     "metadata": {},
     "output_type": "display_data"
    },
    {
     "data": {
      "text/html": [
       "<style>\n",
       ".list-inline {list-style: none; margin:0; padding: 0}\n",
       ".list-inline>li {display: inline-block}\n",
       ".list-inline>li:not(:last-child)::after {content: \"\\00b7\"; padding: 0 .5ex}\n",
       "</style>\n",
       "<ol class=list-inline><li>15262</li><li>1</li></ol>\n"
      ],
      "text/latex": [
       "\\begin{enumerate*}\n",
       "\\item 15262\n",
       "\\item 1\n",
       "\\end{enumerate*}\n"
      ],
      "text/markdown": [
       "1. 15262\n",
       "2. 1\n",
       "\n",
       "\n"
      ],
      "text/plain": [
       "[1] 15262     1"
      ]
     },
     "metadata": {},
     "output_type": "display_data"
    }
   ],
   "source": [
    "#verifica quantos pacientes (ids) e em quantos atendimentos (id.atendimento) \n",
    "exames %>% select(id) %>% unique %>% dim\n",
    "exames %>% select(id.atendimento) %>% unique %>% dim"
   ]
  },
  {
   "cell_type": "code",
   "execution_count": 27,
   "metadata": {
    "colab": {
     "base_uri": "https://localhost:8080/",
     "height": 69
    },
    "id": "FavM0epnjnFi",
    "outputId": "d73ff174-53a0-43fd-9944-bfd1f476324b"
   },
   "outputs": [
    {
     "data": {
      "text/html": [
       "15251"
      ],
      "text/latex": [
       "15251"
      ],
      "text/markdown": [
       "15251"
      ],
      "text/plain": [
       "[1] 15251"
      ]
     },
     "metadata": {},
     "output_type": "display_data"
    },
    {
     "data": {
      "text/html": [
       "14405"
      ],
      "text/latex": [
       "14405"
      ],
      "text/markdown": [
       "14405"
      ],
      "text/plain": [
       "[1] 14405"
      ]
     },
     "metadata": {},
     "output_type": "display_data"
    },
    {
     "data": {
      "text/html": [
       "<style>\n",
       ".list-inline {list-style: none; margin:0; padding: 0}\n",
       ".list-inline>li {display: inline-block}\n",
       ".list-inline>li:not(:last-child)::after {content: \"\\00b7\"; padding: 0 .5ex}\n",
       "</style>\n",
       "<ol class=list-inline><li>422828</li><li>27</li></ol>\n"
      ],
      "text/latex": [
       "\\begin{enumerate*}\n",
       "\\item 422828\n",
       "\\item 27\n",
       "\\end{enumerate*}\n"
      ],
      "text/markdown": [
       "1. 422828\n",
       "2. 27\n",
       "\n",
       "\n"
      ],
      "text/plain": [
       "[1] 422828     27"
      ]
     },
     "metadata": {},
     "output_type": "display_data"
    },
    {
     "data": {
      "text/html": [
       "<table class=\"dataframe\">\n",
       "<caption>A tibble: 4 × 2</caption>\n",
       "<thead>\n",
       "\t<tr><th scope=col>dias.exame</th><th scope=col>n</th></tr>\n",
       "\t<tr><th scope=col>&lt;int&gt;</th><th scope=col>&lt;int&gt;</th></tr>\n",
       "</thead>\n",
       "<tbody>\n",
       "\t<tr><td>0</td><td>240954</td></tr>\n",
       "\t<tr><td>1</td><td> 75056</td></tr>\n",
       "\t<tr><td>2</td><td> 54299</td></tr>\n",
       "\t<tr><td>3</td><td> 52519</td></tr>\n",
       "</tbody>\n",
       "</table>\n"
      ],
      "text/latex": [
       "A tibble: 4 × 2\n",
       "\\begin{tabular}{ll}\n",
       " dias.exame & n\\\\\n",
       " <int> & <int>\\\\\n",
       "\\hline\n",
       "\t 0 & 240954\\\\\n",
       "\t 1 &  75056\\\\\n",
       "\t 2 &  54299\\\\\n",
       "\t 3 &  52519\\\\\n",
       "\\end{tabular}\n"
      ],
      "text/markdown": [
       "\n",
       "A tibble: 4 × 2\n",
       "\n",
       "| dias.exame &lt;int&gt; | n &lt;int&gt; |\n",
       "|---|---|\n",
       "| 0 | 240954 |\n",
       "| 1 |  75056 |\n",
       "| 2 |  54299 |\n",
       "| 3 |  52519 |\n",
       "\n"
      ],
      "text/plain": [
       "  dias.exame n     \n",
       "1 0          240954\n",
       "2 1           75056\n",
       "3 2           54299\n",
       "4 3           52519"
      ]
     },
     "metadata": {},
     "output_type": "display_data"
    }
   ],
   "source": [
    "#filtra os exames feitos até o quarto dia após atendimento\n",
    "exames %>% filter(dias.exame == \"0\" | dias.exame == \"1\" | dias.exame == \"2\" | dias.exame == \"3\" | dias.exame == \"4\") -> exames\n",
    "\n",
    "#cria mais uma coluna unindo exameEanalito\n",
    "exames %>% mutate(exameEanalito = (str_c(exame, \"/\", analito))) -> exames\n",
    "\n",
    "#verifica quantos pacientes (ids) e em quantos atendimentos (id.atendimento) \n",
    "exames$id.atendimento %>% unique() %>% length()\n",
    "exames$id %>% unique() %>% length()\n",
    "\n",
    "#dimensão dos dados após o filtro\n",
    "exames %>% dim\n",
    "\n",
    "#verifica se o filtro funcionou como esperado\n",
    "exames %>% count(dias.exame)"
   ]
  },
  {
   "cell_type": "code",
   "execution_count": null,
   "metadata": {},
   "outputs": [],
   "source": [
    "#alguns exames foram feitos mais de uma vez dentro do mesmo id de atendimento, remove ficando com o primeiro resultado\n",
    "exames %>% group_by(id.atendimento,  exameEanalito) %>% arrange((dias.exame)) %>% slice(1) %>% ungroup -> exames\n",
    "\n",
    "#dimensão dos dados após o filtro\n",
    "exames %>% dim"
   ]
  },
  {
   "cell_type": "code",
   "execution_count": null,
   "metadata": {},
   "outputs": [],
   "source": [
    "#nomes das colunas\n",
    "exames %>% colnames\n",
    "\n",
    "#tipos de desfecho\n",
    "exames %>% count(desfecho.paciente)\n",
    "\n",
    "#quantos pacientes foram internados mais de 9 dias\n",
    "exames %>% filter (tipo.atendimento == 'Internado') %>% filter(dias.desfecho > 9) %>% dim"
   ]
  },
  {
   "cell_type": "code",
   "execution_count": null,
   "metadata": {},
   "outputs": [],
   "source": [
    "#cria essas variáveis para verificar se a gravidade foi atribuida corretamente\n",
    "obito_1 <- 0\n",
    "obito_2 <- 0\n",
    "obito_3 <- 0\n",
    "obito_4 <- 0\n",
    "internado <- 0\n",
    "\n",
    "#adiciona uma coluna com a gravidade = não\n",
    "exames %>% mutate(gravidade = 0) -> exames\n",
    "\n",
    "\n",
    "#condições de gravidade\n",
    "for (i in (1:nrow(exames))){ #percorre todo o arquivo\n",
    "  dias <- exames$dias.desfecho[i]\n",
    "  desfpac <- exames$desfecho.paciente[i]\n",
    "\n",
    "  #se paciente internado e mais de 9 dias entre a entrada e o desfecho\n",
    "  if (!(is.na(dias)) && exames$tipo.atendimento[i] == \"Internado\" && dias > 9){ \n",
    "   exames$gravidade[i] <- 1\n",
    "   internado = internado+1\n",
    "   }\n",
    "\n",
    "  \n",
    "  se óbito\n",
    "  if (!(is.na(desfpac)) & desfpac == \"Óbito após 48hs de internação com necrópsia\")\n",
    "  {   exames$gravidade[i] <- 1 \n",
    "      obito_1 = obito_1+1}\n",
    "\n",
    "  if (!(is.na(desfpac)) & desfpac == \"Óbito após 48hs de internação sem necrópsia\")\n",
    "  {   exames$gravidade[i] <- 1  \n",
    "      obito_2 = obito_2+1}\n",
    "    \n",
    "  if (!(is.na(desfpac)) & desfpac == \"Óbito nas primeiras 48hs de internação sem necrópsia agônico\")\n",
    "  {   exames$gravidade[i] <- 1 \n",
    "      obito_3 = obito_3+1}\n",
    "    \n",
    "  if (!(is.na(desfpac)) & desfpac == \"Óbito nas primeiras 48hs de internação sem necrópsia não agônico\")\n",
    "  {   exames$gravidade[i] <- 1 \n",
    "      obito_4 = obito_4+1}\n",
    "\n",
    "}\n",
    "\n",
    "#verifica se gravidade foi atribuída corretamente\n",
    "exames %>% count(gravidade)\n",
    "obito_1\n",
    "obito_2\n",
    "obito_3\n",
    "obito_4\n",
    "internado"
   ]
  },
  {
   "cell_type": "code",
   "execution_count": null,
   "metadata": {},
   "outputs": [],
   "source": [
    "#dimensão dos dados \n",
    "exames %>% dim\n",
    "\n",
    "\n",
    "#acrescenta a coluna idade\n",
    "exames %>% mutate(idade = (as.numeric(format(as.Date(exames$data.atendimento), '%Y')) -  \n",
    "                as.numeric(exames$nascimento.ano))) -> exames\n",
    "\n",
    "exames %>% count(idade)\n",
    "\n",
    "#substitui vírculo por pontos\n",
    "exames <- data.frame(lapply(exames, function(x) {gsub(\",\", \".\", x)}))\n",
    "\n",
    "#transforma sexo em númerico\n",
    "as.character(exames$sexo) -> exames$sexo\n",
    "exames$sexo[exames$sexo == \"F\"] <- 1\n",
    "exames$sexo[exames$sexo == \"M\"] <- 0\n",
    "as.numeric(exames$sexo) -> exames$sexo\n",
    "exames %>% count(sexo)"
   ]
  },
  {
   "cell_type": "code",
   "execution_count": null,
   "metadata": {},
   "outputs": [],
   "source": [
    "exames %>% colnames\n",
    "exames %>% dim"
   ]
  },
  {
   "cell_type": "code",
   "execution_count": null,
   "metadata": {},
   "outputs": [],
   "source": [
    "#pivota transformando cada paciente em uma linha\n",
    "exames %>%   select(c(1,2,5,10,11,17,26,25)) %>% #seleciona as colunas id, exame+analito e resultado, idade, sexo, gravidade, gravidade2\n",
    "  group_by('id.atendimento') %>% #agrupa por id\n",
    "  pivot_wider(names_from = exameEanalito, values_from = resultado) %>%  #pivota transformando exame+analito em várias colunas\n",
    "  ungroup -> pivotado \n",
    "\n",
    "#quantos atendimentos são graves\n",
    "pivotado %>% count(gravidade)\n",
    "\n",
    "#nova dimensão dos dados\n",
    "pivotado %>% dim\n"
   ]
  },
  {
   "cell_type": "code",
   "execution_count": null,
   "metadata": {},
   "outputs": [],
   "source": [
    "#remove os pacientes que não fizeram hemograma - verificado pelo analito neutrófilos\n",
    "pivotado = pivotado[!is.na(pivotado$'hemograma/neutrófilos'),  ]\n",
    "\n",
    "#dimensão dos dados após o filtro\n",
    "pivotado %>% dim\n",
    "\n",
    "#quantos são graves\n",
    "pivotado %>% count(gravidade)\n",
    "\n",
    "#quantos pacientes há na base\n",
    "pivotado %>% select(id) %>% unique %>% dim"
   ]
  },
  {
   "cell_type": "code",
   "execution_count": null,
   "metadata": {},
   "outputs": [],
   "source": [
    "#filtra apenas um id.atendimento por paciente\n",
    "pivotado %>% group_by(id) %>% arrange(desc(data.atendimento)) %>% slice(1) %>% ungroup -> pivotado\n",
    "\n",
    "#dimensão dos dados após o filtro\n",
    "pivotado %>% dim\n",
    "\n",
    "#quantos são graves\n",
    "pivotado %>% count(gravidade)\n",
    "\n",
    "pivotado -> exames"
   ]
  },
  {
   "cell_type": "code",
   "execution_count": null,
   "metadata": {},
   "outputs": [],
   "source": [
    "#quais datas foram incluidas nesse grupo\n",
    "pivotado %>% count (data.atendimento)"
   ]
  },
  {
   "cell_type": "code",
   "execution_count": null,
   "metadata": {},
   "outputs": [],
   "source": [
    "#algumas colunas ficam identificadas como string por causa de alguns resultados\n",
    "exames <- data.frame(lapply(exames, function(x) {gsub(\"superior a\", \"\", x)}))\n",
    "exames <- data.frame(lapply(exames, function(x) {gsub( \"inferior a\", \"\", x)}))\n",
    "exames <- data.frame(lapply(exames, function(x) {gsub( \"1.000.000.\", \"1000000\", x)}))\n",
    "exames <- data.frame(lapply(exames, function(x) {gsub( \"g/L\", \"\", x)}))\n",
    "exames <- data.frame(lapply(exames, function(x) {gsub( \"1.000.000\", \"1000000\", x)}))\n",
    "exames <- data.frame(lapply(exames, function(x) {gsub( \"negativa\", \"0\", x)}))\n",
    "exames <- data.frame(lapply(exames, function(x) {gsub( \"Parcial Positivo\", \"1\", x)}))\n",
    "exames <- data.frame(lapply(exames, function(x) {gsub( \"Parcial Nositivo\", \"0\", x)}))\n",
    "exames <- data.frame(lapply(exames, function(x) {gsub( \"POSITIVO\", \"1\", x)}))\n",
    "exames <- data.frame(lapply(exames, function(x) {gsub( \"NEGATIVO\", \"0\", x)}))\n",
    "exames <- data.frame(lapply(exames, function(x) {gsub( \"NÃO REAGENTE\", \"0\", x)}))\n",
    "exames <- data.frame(lapply(exames, function(x) {gsub( \"REAGENTE\", \"1\", x)}))\n",
    "exames <- data.frame(lapply(exames, function(x) {gsub( \"Indeterminado\", \"NA\", x)}))\n",
    "exames <- data.frame(lapply(exames, function(x) {gsub( \"não reagente\", \"0\", x)}))\n",
    "exames <- data.frame(lapply(exames, function(x) {gsub( \"REAGENTE. maior ou igual a 1000\", \"1000\", x)}))\n",
    "exames <- data.frame(lapply(exames, function(x) {gsub( \"Parcial Negativo\", \"0\", x)}))\n",
    "\n"
   ]
  },
  {
   "cell_type": "code",
   "execution_count": null,
   "metadata": {},
   "outputs": [],
   "source": [
    "#transforma o formato das colunas\n",
    "dados <- as.numeric(exames)\n"
   ]
  },
  {
   "cell_type": "code",
   "execution_count": null,
   "metadata": {},
   "outputs": [],
   "source": [
    "#quantas e quais são as colunas não numéricas\n",
    "dados %>% dplyr::select(where(is.character)) %>% ncol\n",
    "\n",
    "dados %>% dplyr::select(where(is.character)) %>% colnames\n"
   ]
  },
  {
   "cell_type": "code",
   "execution_count": null,
   "metadata": {},
   "outputs": [],
   "source": [
    "#filtra apenas as colunas numéricas\n",
    "dados %>% dplyr::select(where(is.double)) -> dados\n",
    "\n",
    "#remove a coluna data.atendimento\n",
    "dados %>% select(-data.atendimento) -> dados\n",
    "\n",
    "#resultado\n",
    "dados %>% dim\n",
    "dados %>% count(gravidade)\n",
    "\n",
    "#idade\n",
    "dados %>% count(idade)"
   ]
  },
  {
   "cell_type": "code",
   "execution_count": null,
   "metadata": {},
   "outputs": [],
   "source": [
    "#filtra apenas os pacientes graves\n",
    "dados %>% filter(gravidade == 1) -> graves\n",
    "\n",
    "#filtra os exames que ao menos 50% de valores não ausentes nesta classe\n",
    "\n",
    "colunas = c()\n",
    "#para cada coluna \n",
    "for (i in 1:ncol(dados)) { \n",
    "  #conta os valores diferentes de NA\n",
    "  temp = sum(!is.na(graves[,i]))\n",
    "  #se os valores diferentes de NA forem mais da metade do total de graves seleciona essa coluna\n",
    "  if (temp >= (nrow(graves)/2)) {colunas <- append(colunas, i)}\n",
    "}\n",
    "\n",
    "#filtra as colunas selecionadas\n",
    "dados %>% select(all_of(colunas)) -> dados\n",
    "\n",
    "#número de colunas\n",
    "dados %>% ncol"
   ]
  },
  {
   "cell_type": "code",
   "execution_count": null,
   "metadata": {},
   "outputs": [],
   "source": [
    "#filtra apenas os pacientes não graves\n",
    "dados %>% filter(gravidade == 0) -> ngraves\n",
    "\n",
    "#filtra os exames que ao menos 50% de valores não ausentes nesta classe\n",
    "\n",
    "colunas = c()\n",
    "#para cada coluna \n",
    "for (i in 1:ncol(dados)) { \n",
    "    #conta os valores diferentes de NA\n",
    "    temp = sum(!is.na(ngraves[,i]))\n",
    "    #se os valores diferentes de NA forem mais da metade do total de ngraves seleciona essa coluna\n",
    "    if (temp >= (nrow(ngraves)/2)) {colunas <- append(colunas, i)}\n",
    "}\n",
    "\n",
    "#filtra as colunas selecionadas\n",
    "dados %>% select(all_of(colunas)) -> dados\n",
    "\n",
    "#número de colunas\n",
    "dados %>% ncol"
   ]
  },
  {
   "cell_type": "code",
   "execution_count": null,
   "metadata": {},
   "outputs": [],
   "source": [
    "#conjunto de funções para remover valores extremos, foram removidos 4 valores extremos por variável\n",
    "#a decisão por remover valores extremos à direita, à esquerda ou de ambas foi feita a partir de análise visual dos histogramas\n",
    "\n",
    "\n",
    "#biblioteca usada para transformar os valores em na\n",
    "library(naniar)\n",
    "\n",
    "#função para transformar em NA os valores extremos da direita\n",
    "\n",
    "re_extremos_dir <- function(column) {\n",
    "\n",
    "  #a função map passa as colunas como listas\n",
    "  #transforma em tibble e acrescenta um \"nome\"\n",
    "  column %>% as.tibble -> column\n",
    "  colnames(column)[1] <- \"label\" \n",
    "\n",
    "  #define os 4 valores extremos à direita\n",
    "  column %>% na.omit %>% count(label) %>% slice(tail(row_number(), 4)) %>% select(1) %>% as.list -> limite\n",
    "  limite[[1]] ->> limite\n",
    "\n",
    "  #transforma esses valores em NA\n",
    "  column %>% replace_with_na_all(condition = ~.x %in% limite) -> column\n",
    "  \n",
    "} \n",
    "\n",
    "#função para transformar em NA os valores extremos da esquerda\n",
    "re_extremos_esq <- function(column) {\n",
    "\n",
    "  #a função map passa as colunas como listas\n",
    "  #transforma em tibble e acrescenta um \"nome\"\n",
    "  column %>% as.tibble -> column\n",
    "  colnames(column)[1] <- \"label\" \n",
    "\n",
    "  #define os 4 valores extremos à esquerda\n",
    "  column %>% count(label) %>% slice(1:4) %>% select(1) %>% as.list -> limite\n",
    "  c(limite[[1]]) ->> limite\n",
    "\n",
    "  #transforma esses valores em NA\n",
    "  column %>% replace_with_na_all(condition = ~.x %in% limite) -> column\n",
    "\n",
    "  \n",
    "}\n",
    "\n",
    "\n",
    "#função para transformar em NA os valores extremos da esquerda e da direita\n",
    "re_extremos_dir_esq <- function(column) {\n",
    "\n",
    "  #a função map passa as colunas como listas\n",
    "  #transforma em tibble e acrescenta um \"nome\"\n",
    "  column %>% as.tibble -> column\n",
    "  colnames(column)[1] <- \"label\" \n",
    "\n",
    "  #define os 2 valores extremos à esquerda\n",
    "  column %>% count(label) %>% slice(1:2) %>% select(1) %>% as.list -> limite\n",
    "  c(limite[[1]]) ->> limite\n",
    "\n",
    "  #define os 2 valores extremos à direita\n",
    "  column %>% na.omit %>% count(label) %>% slice(tail(row_number(), 2)) %>% select(1) %>% as.list -> limite2\n",
    "  c(limite2[[1]]) ->> limite2\n",
    "\n",
    "  #transforma esses valores em NA\n",
    "  column %>% replace_with_na_all(condition = ~.x %in% limite2) -> column\n",
    "  column %>% replace_with_na_all(condition = ~.x %in% limite) -> column\n",
    "\n",
    "}\n"
   ]
  },
  {
   "cell_type": "code",
   "execution_count": null,
   "metadata": {},
   "outputs": [],
   "source": [
    "#filtra apenas os pacientes ngraves\n",
    "dados %>% filter(gravidade == 0) -> ngraves\n",
    "\n",
    "#filtra os exames que ao menos x% de valores não ausentes nesta classe\n",
    "colunas = c()\n",
    "for (i in 1:ncol(dados)) { \n",
    "  temp = sum(!is.na(ngraves[,i]))\n",
    "  if (temp >= (nrow(ngraves)/2)) {colunas <- append(colunas, i)}\n",
    "}\n",
    "\n",
    "dados %>% select(all_of(colunas)) -> dados\n",
    "dados %>% ncol\n",
    "dados %>% colnames\n"
   ]
  },
  {
   "cell_type": "code",
   "execution_count": null,
   "metadata": {},
   "outputs": [],
   "source": [
    "library(ggplot2)\n",
    "\n",
    "for (i in (1:ncol(dados))){\n",
    "\n",
    "  label <- (dados[i] %>% colnames)\n",
    "  #label <- label %>% str_replace(\".\", \"\")\n",
    "  exame <- dados %>% select(i) %>% as.list\n",
    "  exame[[1]] -> exame\n",
    "  #b <-(max(exame)-min(exame))/50\n",
    "  His <- ggplot(data=dados, \n",
    "  aes(x=exame))+\n",
    "  geom_histogram(bins = 50, color=\"black\", aes(fill=factor(gravidade))) +  \n",
    "  xlab(label) +   ylab(\"Frequencia\") +      \n",
    "  theme(legend.position=\"none\")+  ggtitle(paste(\"Histograma\", label))+      \n",
    "  geom_vline(data=dados, aes(xintercept = median(exame)),linetype=\"dashed\",color=\"grey\")\n",
    "  show(His)\n",
    "}\n"
   ]
  },
  {
   "cell_type": "code",
   "execution_count": null,
   "metadata": {},
   "outputs": [],
   "source": [
    "#variáveis com histograma dislocado à esquerda, remover valores extremos da direita\n",
    "dados %>% select('creatinina.creatinina',\n",
    "                 'd.dimerosdimeros.de.fibrina.dimeros.d.quant',\n",
    "                 'hemograma.basófilos',\n",
    "                 'hemograma.basófilos.percentual',\n",
    "                 'hemograma.eosinófilos',\n",
    "                 'hemograma.eosinófilos.percentual',\n",
    "                 'hemograma.leucócitos',\n",
    "                 'hemograma.linfócitos',\n",
    "                 'hemograma.linfócitos.percentual',\n",
    "                 'hemograma.monócitos',\n",
    "                 'hemograma.monócitos.percentual',\n",
    "                 'hemograma.neutrófilos',\n",
    "                 'hemograma.rdw',\n",
    "                 'hemograma.volume.plaquetário.médio',\n",
    "                 'potássio.potássio',\n",
    "                 'proteína.c.reativa.proteína.creativa',\n",
    "                 'sódio.sódio',\n",
    "                 'tgo.ast.tgo',\n",
    "                 'tgp.alt.tgp',\n",
    "                 'uréia.uréia') -> dados_dir\n",
    "\n",
    "#aplica a função a cada coluna\n",
    "dados_dir %>% map(~ re_extremos_dir(.)) %>% as.data.frame -> dados_dir\n",
    "\n",
    "#renomeia\n",
    "names(dados_dir) <-c('creatinina.creatinina',\n",
    "                 'd.dimerosdimeros.de.fibrina.dimeros.d.quant',\n",
    "                 'hemograma.basófilos',\n",
    "                 'hemograma.basófilos.percentual',\n",
    "                 'hemograma.eosinófilos',\n",
    "                 'hemograma.eosinófilos.percentual',\n",
    "                 'hemograma.leucócitos',\n",
    "                 'hemograma.linfócitos',\n",
    "                 'hemograma.linfócitos.percentual',\n",
    "                 'hemograma.monócitos',\n",
    "                 'hemograma.monócitos.percentual',\n",
    "                 'hemograma.neutrófilos',\n",
    "                 'hemograma.rdw',\n",
    "                 'hemograma.volume.plaquetário.médio',\n",
    "                 'potássio.potássio',\n",
    "                 'proteína.c.reativa.proteína.creativa',\n",
    "                 'sódio.sódio',\n",
    "                 'tgo.ast.tgo',\n",
    "                 'tgp.alt.tgp',\n",
    "                 'uréia.uréia')\n"
   ]
  },
  {
   "cell_type": "code",
   "execution_count": null,
   "metadata": {},
   "outputs": [],
   "source": [
    "#variáveis com histograma dislocado à direita, remover valores extremos da esquerda\n",
    "dados %>% select('hemograma.neutrófilos.percentual','hemograma.chcm' ) -> dados_esq\n",
    "\n",
    "#aplica a função a cada coluna\n",
    "dados_esq %>% map(~ re_extremos_esq(.)) %>% as.data.frame -> dados_esq\n",
    "\n",
    "#renomeia\n",
    "names(dados_esq) <- c('hemograma.neutrófilos.percentual','hemograma.chcm' )"
   ]
  },
  {
   "cell_type": "code",
   "execution_count": null,
   "metadata": {},
   "outputs": [],
   "source": [
    "#variáveis com histograma centralizado, remover extremos da direita e da esquerda\n",
    "dados %>% select('hemograma.eritrócitos',\n",
    "                 'hemograma.hcm',\n",
    "                 'hemograma.vcm',\n",
    "                 'hemograma.hemograma') -> dados_dir_esq\n",
    "\n",
    "#aplica a função a cada coluna\n",
    "dados_dir_esq %>% map(~ re_extremos_dir_esq(.)) %>% as.data.frame -> dados_dir_esq\n",
    "\n",
    "#renomeia\n",
    "names(dados_dir_esq) <- c('hemograma.eritrócitos',\n",
    "                 'hemograma.hcm',\n",
    "                 'hemograma.vcm',\n",
    "                 'hemograma.hemograma')"
   ]
  },
  {
   "cell_type": "code",
   "execution_count": null,
   "metadata": {},
   "outputs": [],
   "source": [
    "#variáveis que não tiveram remoção de extremos\n",
    "dados %>% select(\"sexo\", \"idade\", \"gravidade\") -> dados_2\n",
    "\n",
    "#une as variáveis novamente\n",
    "dados_2 %>% cbind(dados_dir) %>% cbind(dados_esq) %>% cbind(dados_dir_esq) -> dados\n",
    "dados %>% dim\n",
    "dados %>% count(gravidade)"
   ]
  },
  {
   "cell_type": "code",
   "execution_count": null,
   "metadata": {},
   "outputs": [],
   "source": [
    "#nomes das variáveis\n",
    "dados %>% colnames\n",
    "\n",
    "#visualiza dos dados\n",
    "dados %>% head\n",
    "\n",
    "#coloca gravidade como última coluna\n",
    "dados %>% select(gravidade) -> gravidade\n",
    "dados %>% select(-gravidade) -> dado\n",
    "cbind(dado,gravidade) -> dados\n"
   ]
  },
  {
   "cell_type": "code",
   "execution_count": null,
   "metadata": {},
   "outputs": [],
   "source": [
    "names(dados) <- c('Sex','Age','Creatinine','D-dimers',\n",
    "                 'Basophils','Basophils(%)','Eosinophils',\n",
    "                 'Eosinophils(%)','Leukocytes','Lymphocytes',\n",
    "                 'Lymphocytes(%)','Monocytes','Monocytes(%)',\n",
    "                 'Neutrophils','RDW','MPV','Potassium',\n",
    "                  'C-reative protein','Sodium','GOT',\n",
    "                 'GPT','Urea','Neutrophils(%)',\n",
    "                 'MCHC','Erythrocytes','MCH',\n",
    "                 'MCV','Hemoglobin', 'Severity')"
   ]
  },
  {
   "cell_type": "code",
   "execution_count": null,
   "metadata": {},
   "outputs": [],
   "source": [
    "dados %>% write_csv(\"sl.csv\")"
   ]
  }
 ],
 "metadata": {
  "colab": {
   "collapsed_sections": [],
   "name": "IV Integração dados - Sírio",
   "provenance": [],
   "toc_visible": true
  },
  "kernelspec": {
   "display_name": "R",
   "language": "R",
   "name": "ir"
  },
  "language_info": {
   "codemirror_mode": "r",
   "file_extension": ".r",
   "mimetype": "text/x-r-source",
   "name": "R",
   "pygments_lexer": "r",
   "version": "3.6.3"
  }
 },
 "nbformat": 4,
 "nbformat_minor": 4
}
